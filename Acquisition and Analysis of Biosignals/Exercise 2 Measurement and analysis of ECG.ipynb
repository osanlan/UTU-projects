{
  "nbformat": 4,
  "nbformat_minor": 0,
  "metadata": {
    "kernelspec": {
      "display_name": "Python 3",
      "language": "python",
      "name": "python3"
    },
    "language_info": {
      "codemirror_mode": {
        "name": "ipython",
        "version": 3
      },
      "file_extension": ".py",
      "mimetype": "text/x-python",
      "name": "python",
      "nbconvert_exporter": "python",
      "pygments_lexer": "ipython3",
      "version": "3.8.3"
    },
    "toc": {
      "base_numbering": 1,
      "nav_menu": {},
      "number_sections": true,
      "sideBar": true,
      "skip_h1_title": false,
      "title_cell": "Table of Contents",
      "title_sidebar": "Contents",
      "toc_cell": false,
      "toc_position": {},
      "toc_section_display": true,
      "toc_window_display": true
    },
    "varInspector": {
      "cols": {
        "lenName": 16,
        "lenType": 16,
        "lenVar": 40
      },
      "kernels_config": {
        "python": {
          "delete_cmd_postfix": "",
          "delete_cmd_prefix": "del ",
          "library": "var_list.py",
          "varRefreshCmd": "print(var_dic_list())"
        },
        "r": {
          "delete_cmd_postfix": ") ",
          "delete_cmd_prefix": "rm(",
          "library": "var_list.r",
          "varRefreshCmd": "cat(var_dic_list()) "
        }
      },
      "types_to_exclude": [
        "module",
        "function",
        "builtin_function_or_method",
        "instance",
        "_Feature"
      ],
      "window_display": false
    },
    "colab": {
      "name": "exercise_2.ipynb",
      "provenance": [],
      "collapsed_sections": [],
      "toc_visible": true
    }
  },
  "cells": [
    {
      "cell_type": "markdown",
      "metadata": {
        "id": "ZBwiIMVoPeMH"
      },
      "source": [
        "# DTEK0042 Exercise 2\n",
        "    Group Members:\n",
        "    1. Tiina Nokelainen\n",
        "    2. Risto Hirvilammi\n",
        "    3. Oskari Läntinen"
      ]
    },
    {
      "cell_type": "markdown",
      "metadata": {
        "id": "k4v_gCD1PeMO"
      },
      "source": [
        "*** Note for Google Colab Users ***\n",
        "     Because Google Colab doesn't have a button to convert your notebook to .html format here is a quick work around:\n",
        "   1. open a new google colab notebook\n",
        "   2. in the files section in google colab, upload the .ipynb file you want to be converted to .html\n",
        "   3. in your new open notebook run this command in an empty cell: !jupyter nbconvert --to html YourFileName.ipynb\n",
        "   4. after the command is finished running refresh the page\n",
        "   5. In your files section you should see your original .ipynb file that you uploaded and then a .html file of that same notebook.\n",
        "   6. download the .html file and you're good to go!"
      ]
    },
    {
      "cell_type": "markdown",
      "metadata": {
        "id": "-VhIZyztPeMS"
      },
      "source": [
        "In this exercise, you are required to analyze an ECG signal step-by-step as outlined below. The deliverables for this exercise are a jupyter notebook and a .html file exported form the notebook. The notebook should includes your code, observations, graphs, and conclusions made upon analyzing the given ECG signal. Please provide caption and description for every figure. "
      ]
    },
    {
      "cell_type": "markdown",
      "metadata": {
        "id": "2tx8iVzfPeMW"
      },
      "source": [
        "## 1- library Imports"
      ]
    },
    {
      "cell_type": "code",
      "metadata": {
        "id": "8gL0619ZPeMY"
      },
      "source": [
        "import scipy\n",
        "import numpy as np\n",
        "import matplotlib.pyplot as plt"
      ],
      "execution_count": null,
      "outputs": []
    },
    {
      "cell_type": "markdown",
      "metadata": {
        "id": "sX9jBV7RPeN8"
      },
      "source": [
        "# 2- Data Import and plotting\n",
        "* Import the ECG signal named “ECG_800Hz.txt” into your python environment and store it in a variable named “ECG_sig”. \n",
        "* Plot the signal.\n",
        "* Note: the sampling frequency of this signal is 800Hz. \n",
        "* You need this value if you want to plot ECG versus time.\n",
        "\n",
        "\n",
        "     HINT: \n",
        "         ECG_sig = np.loadtxt(the directory of the ECG signal) "
      ]
    },
    {
      "cell_type": "code",
      "metadata": {
        "id": "pBhakiZhRjlc",
        "colab": {
          "base_uri": "https://localhost:8080/"
        },
        "outputId": "784d13fa-d10f-4d47-c84a-9b5999aa4ac5"
      },
      "source": [
        "from google.colab import drive\n",
        "drive.mount('/content/drive')"
      ],
      "execution_count": null,
      "outputs": [
        {
          "output_type": "stream",
          "text": [
            "Mounted at /content/drive\n"
          ],
          "name": "stdout"
        }
      ]
    },
    {
      "cell_type": "code",
      "metadata": {
        "id": "bt--Ih25PeN-",
        "colab": {
          "base_uri": "https://localhost:8080/"
        },
        "outputId": "f4422ae1-01fb-4170-a616-47e6060742d8"
      },
      "source": [
        "# Loading the signal to colab\n",
        "ECG_signal = np.loadtxt(\"/content/drive/My Drive/Biosignals/ECG_800hz.txt\")\n",
        "print(\"Done!\")"
      ],
      "execution_count": null,
      "outputs": [
        {
          "output_type": "stream",
          "text": [
            "Done!\n"
          ],
          "name": "stdout"
        }
      ]
    },
    {
      "cell_type": "code",
      "metadata": {
        "id": "h3JXRR2wPeOK"
      },
      "source": [
        "# Create the array for time and plot signal vs time\n",
        "time=np.linspace(0,(len(ECG_signal)/800),len(ECG_signal))\n",
        "\n",
        "plt.figure(figsize=(20,7))\n",
        "plt.plot(time,ECG_signal)\n",
        "plt.xlabel('Time (s)')\n",
        "plt.ylabel('Signal (au)')\n",
        "plt.title(\"ECG_signal vs time\")"
      ],
      "execution_count": null,
      "outputs": []
    },
    {
      "cell_type": "markdown",
      "metadata": {
        "id": "Y5idKT2Raka9"
      },
      "source": [
        "**ECG_signal vs time (s):**\n",
        "Shows the original, unfiltered, ECG signal\n",
        "\n"
      ]
    },
    {
      "cell_type": "markdown",
      "metadata": {
        "id": "1rDKp3ArPeOT"
      },
      "source": [
        "# 3- Discrete Fourier Transform\n",
        "\n",
        " * Compute DFT using FFT algorithm provided by scipy package. Take only the positive frequencies from the computed DFT and subsequently calculate the magnitude of frequency content. \n",
        " * Plot the calculated magnitude versus frequency.\n",
        " * Discard the frequencies below 0.5Hz and above 40Hz and replot the magnitude versus frequency.\n",
        " * Note: depending on the length of the signal the last positive frequency is placed either at an odd or even index in the computed DFT array. When you consider only positive frequencies the minimum frequency in your DFT is DC frequency or f = 0Hz and the maximum frequency is Nyquist frequency. \n",
        " https://scipy.github.io/devdocs/tutorial/fft.html \n",
        " \n",
        "      \n",
        "      HINT: \n",
        "        ECG_sig_DFT = scipy.fft (ECG_sig)  \n",
        "        frequencies = np.fft.fftfreq(len(ECG_sig)) "
      ]
    },
    {
      "cell_type": "code",
      "metadata": {
        "id": "KG7kEjps6GZu"
      },
      "source": [
        "from scipy.fft import rfft, rfftfreq"
      ],
      "execution_count": null,
      "outputs": []
    },
    {
      "cell_type": "code",
      "metadata": {
        "id": "QboQeltB6Hji"
      },
      "source": [
        "\n",
        "### Fourier transform ###\n",
        "Fs=800 # Sampling rate\n",
        "\n",
        "ecg_dft = rfft(ECG_signal)\n",
        "freqs = rfftfreq(len(ECG_signal), 1/Fs)\n",
        "\n",
        "plt.figure(figsize=(12,7))\n",
        "plt.plot(freqs[(freqs > 0.5) & (freqs < 40)], np.abs(ecg_dft[(freqs > 0.5) & (freqs < 40)]))\n",
        "plt.xlabel(\"Frequency (Hz)\")\n",
        "plt.ylabel(\"Amplitude\");"
      ],
      "execution_count": null,
      "outputs": []
    },
    {
      "cell_type": "markdown",
      "metadata": {
        "id": "PCwvqAQPPeOb"
      },
      "source": [
        "# 4- Band Pass Filter Design\n",
        "*  Design a band pass filter. Use Butterworth filter of order 4 with cutoff frequencies equal to 0.5Hz and 40Hz.\n",
        "\n",
        "\n",
        "* Design another butterworth band pass filter but this time use an order of 2 with cutoff frequencies equal to 0.5Hz and 40Hz\n",
        "\n",
        "\n",
        "* Plot the frequency response of both filters and explain your observations.\n",
        "\n",
        "\n",
        "* Note: the documentation of scipy package online is very comprehensive and informative. there are examples that \n",
        "  you can easilty follow and use to solve the given exercise here. \n",
        "  https://docs.scipy.org/doc/scipy-0.14.0/reference/signal.html    \n",
        "    \n",
        "   \n",
        "      HINT: \n",
        "        from scipy.signal import butter, filtfilt, freqz\n",
        "    "
      ]
    },
    {
      "cell_type": "code",
      "metadata": {
        "id": "lwlNJxX7PeOc"
      },
      "source": [
        "from scipy import signal"
      ],
      "execution_count": null,
      "outputs": []
    },
    {
      "cell_type": "code",
      "metadata": {
        "id": "nXyAmHNS2qlB"
      },
      "source": [
        "# Butterworth order of 4\n",
        "b, a = signal.butter(4, [0.5, 40], 'band', analog=True)\n",
        "w, h = signal.freqs(b, a)\n",
        "plt.plot(w, 20 * np.log10(abs(h)))\n",
        "plt.xscale('log')\n",
        "plt.title('Butterworth filter frequency response')\n",
        "plt.xlabel('Frequency [radians / second]')\n",
        "plt.ylabel('Amplitude [dB]')\n",
        "plt.margins(0, 0.1)\n",
        "plt.grid(which='both', axis='both')\n",
        "plt.axvline(0.5, color='green') # low cutoff frequency\n",
        "plt.axvline(40, color='green') # high cutoff frequency\n",
        "plt.show()"
      ],
      "execution_count": null,
      "outputs": []
    },
    {
      "cell_type": "code",
      "metadata": {
        "id": "UtVFgg0o4B5l"
      },
      "source": [
        "# Butterworth order of 2\n",
        "b, a = signal.butter(2, [0.5, 40], 'band', analog=True)\n",
        "w, h = signal.freqs(b, a)\n",
        "plt.plot(w, 20 * np.log10(abs(h)))\n",
        "plt.xscale('log')\n",
        "plt.title('Butterworth filter frequency response')\n",
        "plt.xlabel('Frequency [radians / second]')\n",
        "plt.ylabel('Amplitude [dB]')\n",
        "plt.margins(0, 0.1)\n",
        "plt.grid(which='both', axis='both')\n",
        "plt.axvline(0.5, color='green') # low cutoff frequency\n",
        "plt.axvline(40, color='green') # high cutoff frequency\n",
        "plt.show()"
      ],
      "execution_count": null,
      "outputs": []
    },
    {
      "cell_type": "markdown",
      "metadata": {
        "id": "vUT9e2LOPeOi"
      },
      "source": [
        "## Observations:\n",
        "  With butterworth order 4 the cutoff is more steep than with order 2."
      ]
    },
    {
      "cell_type": "code",
      "metadata": {
        "id": "aJxq7x-NTfxY"
      },
      "source": [
        "def bandPassFilter(signal, order):\n",
        "\n",
        "  fs = 800\n",
        "  lowcut = 0.5\n",
        "  highcut = 40\n",
        "  \n",
        "  # maximum frequency is Nyquist frequency which his half of the sampling freq\n",
        "  nyq = 0.5 * fs\n",
        "  low = 0.5 / nyq\n",
        "  high = 40 / nyq\n",
        "\n",
        "  b, a = scipy.signal.butter(order, [low, high], 'band', analog=False)\n",
        "  filt_signal = scipy.signal.filtfilt(b, a, signal, axis=0)\n",
        "\n",
        "  return filt_signal\n"
      ],
      "execution_count": null,
      "outputs": []
    },
    {
      "cell_type": "markdown",
      "metadata": {
        "id": "JBvM97IGPeOk"
      },
      "source": [
        "# 5- Apply filter to ECG_Sig\n",
        "* Use the designed 4th order filter to filter ECG_sig.\n",
        "* Plot the first 5000 samples from the original signal (raw_signal) and the filtered signal.\n",
        "* What happens after filtering? Explain your observations."
      ]
    },
    {
      "cell_type": "code",
      "metadata": {
        "id": "LrjmeCi1VR5H"
      },
      "source": [
        "filtered_signal = bandPassFilter(ECG_signal, 4)\n"
      ],
      "execution_count": null,
      "outputs": []
    },
    {
      "cell_type": "code",
      "metadata": {
        "id": "GAeEhu7BWczz"
      },
      "source": [
        "\n",
        "fig = plt.figure(figsize=(12,7)) \n",
        "plt.plot(ECG_signal[:5000], label=\"raw signal\", linewidth=1)\n",
        "plt.plot(filtered_signal[:5000], label=\"filtered signal\", linewidth=1)\n",
        "fig.legend(bbox_to_anchor=(0.20,0.8))\n",
        "plt.xlabel('Time (?)')\n",
        "plt.ylabel('ECG signal (au)')\n",
        "plt.title(\"Effect of filtering on ECG signal vs time\")"
      ],
      "execution_count": null,
      "outputs": []
    },
    {
      "cell_type": "markdown",
      "metadata": {
        "id": "E1XvtC1LPeOq"
      },
      "source": [
        "## Observations: \n",
        "    Noise from the power supply (50 Hz) has reduced and other higher frequency noise signals.\n",
        "  \n",
        "  "
      ]
    },
    {
      "cell_type": "markdown",
      "metadata": {
        "id": "yE_7dZr9PeOr"
      },
      "source": [
        "# 6- QRS Detection \n",
        "*  QRS detection using “hamilton” method provided by the “biosppy” package.\n",
        "*  If you do not have this package installed, use the following command to install it in your anaconda prompt: \n",
        "    pip install biosppy\n",
        "* You can also use following command in your notebook: !pip install biosppy\n",
        "* Plot the results and describe your observations about QRS and Heart rate.\n",
        "\n",
        "* See the links below for more help:\n",
        "https://pypi.org/project/biosppy/  \n",
        "https://biosppy.readthedocs.io/en/stable/index.html#simple-example \n",
        "\n",
        "      HINT: \n",
        "        import biosppy \n",
        "        from biosppy.signals import ecg \n",
        "\n"
      ]
    },
    {
      "cell_type": "code",
      "metadata": {
        "id": "BedAxHMLPeOs"
      },
      "source": [
        "!pip install biosppy"
      ],
      "execution_count": null,
      "outputs": []
    },
    {
      "cell_type": "code",
      "metadata": {
        "id": "F_DeVeI_pjBW"
      },
      "source": [
        "from biosppy.signals import ecg"
      ],
      "execution_count": null,
      "outputs": []
    },
    {
      "cell_type": "code",
      "metadata": {
        "id": "-R-nFtBWqrh3"
      },
      "source": [
        "r_peaks = ecg.hamilton_segmenter(filtered_signal, sampling_rate=800)\n",
        "\n",
        "fig = plt.figure(figsize=(20,9))\n",
        "plt.plot(filtered_signal, linewidth=0.5)\n",
        "plt.plot(r_peaks['rpeaks'], filtered_signal[r_peaks['rpeaks']], \"x\");\n",
        "plt.xlabel('Time (?)')\n",
        "plt.ylabel('ECG signal (au)')\n",
        "plt.title(\"ECG signal vs time (peaks marked)\")"
      ],
      "execution_count": null,
      "outputs": []
    },
    {
      "cell_type": "code",
      "metadata": {
        "id": "szJlHF1itPWN"
      },
      "source": [
        "r_peaks['rpeaks'].shape"
      ],
      "execution_count": null,
      "outputs": []
    },
    {
      "cell_type": "code",
      "metadata": {
        "id": "Ahfrj5RWwX7T"
      },
      "source": [
        "ecg_cut = filtered_signal[:20000]\n",
        "cut_rpeaks = ecg.hamilton_segmenter(ecg_cut, sampling_rate=800)['rpeaks']\n",
        "\n",
        "fig = plt.figure(figsize=(14,7))\n",
        "plt.plot(ecg_cut, linewidth=1)\n",
        "plt.plot(cut_rpeaks, ecg_cut[cut_rpeaks], \"x\");\n",
        "plt.xlabel('Time (?)')\n",
        "plt.ylabel('ECG signal (au)')\n",
        "plt.title(\"Filtered ECG signal vs time (peaks marked)\")"
      ],
      "execution_count": null,
      "outputs": []
    },
    {
      "cell_type": "markdown",
      "metadata": {
        "id": "ksPBNJzPPeOw"
      },
      "source": [
        "## Observations:\n",
        "    Nice looking ECG after filterinh. R-peaks are well detected.\n",
        "    "
      ]
    }
  ]
}