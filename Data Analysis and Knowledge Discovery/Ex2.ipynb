{
 "cells": [
  {
   "cell_type": "markdown",
   "metadata": {},
   "source": [
    "Oskari Läntinen<br>\n",
    "student number 508244 <br>\n",
    "osanlan@utu.fi  <br>\n",
    "November, 23, 2020  <br>"
   ]
  },
  {
   "cell_type": "markdown",
   "metadata": {},
   "source": [
    "# Data Analysis and Knowledge Discovery: Exercise 2, Data Understanding and Visualization"
   ]
  },
  {
   "cell_type": "markdown",
   "metadata": {},
   "source": [
    "This is the template for the second exercise. You can add more code and markup cells, as long as the flow of the notebook stays fluent and logical.\n",
    "\n",
    "The aim of this exercise is to practice data understanding; check the content and validity of the data, correct and select data, and apply basic descriptive statistics and visualization for further understanding.\n",
    "\n",
    "Two datasets are used: shipdata1_2020.csv and shipdata2_2020.csv. The same data will be used in the next exercise, with same attributes, but in a more cleaned format.<br> \n",
    "\n",
    "General guidance for exercises is given in the course Moodle page. <br>\n",
    "\n",
    "- Answer to **all** questions below, even if you can't get your script to fully work\n",
    "- Write clear and easily readable code, include explanations what your code does\n",
    "- Make informative illustrations: include labels for x and y axes, legends and captions for your plots\n",
    "- Before saving the ipynb file (and possible printing) run: \"Restart & Run all\", to make sure you return a file that works as expected.\n",
    "- Grading: *Fail*/*Pass*/*Pass with honors* (+1)\n",
    "- +1 bonus point (grading *Pass with honors*) requires a completely correct solution and also thorough analysis. \n",
    "- If you encounter problems, Google first. If you can't find an answer to the problem, don't hesitate to ask in the Moodle discussion or directly: elmasyr@utu.fi (mattermost.utu.fi, moodle chat or email).\n",
    "- Note! Don't leave it to the last moment! Not feedback service dusring the weekend.\n",
    "- The deadline is **Mon November 16th 23:59**"
   ]
  },
  {
   "cell_type": "markdown",
   "metadata": {},
   "source": [
    "Gather *all* packages needed for this notebook here:"
   ]
  },
  {
   "cell_type": "code",
   "execution_count": 1,
   "metadata": {},
   "outputs": [],
   "source": [
    "# Libraries\n",
    "import pandas as pd\n",
    "import matplotlib.pyplot as plt\n",
    "import seaborn as sns\n",
    "from sklearn.decomposition import PCA\n",
    "\n",
    "# Show the plots inline in the notebook\n",
    "%matplotlib inline"
   ]
  },
  {
   "cell_type": "markdown",
   "metadata": {},
   "source": [
    "## 1. Know your data, a quick dive into domain knowledge"
   ]
  },
  {
   "cell_type": "markdown",
   "metadata": {},
   "source": [
    "The data used in this exercise is a subset from the Marine Traffic portal. More information available for example here:\n",
    "- https://www.marinetraffic.com/blog/information-transmitted-via-ais-signal/\n",
    "- https://www.diva-portal.org/smash/get/diva2:833998/FULLTEXT01.pdf\n",
    "- https://www.marinetraffic.com/en/data/\n"
   ]
  },
  {
   "cell_type": "markdown",
   "metadata": {},
   "source": [
    "Exercise data columns/attributes:\n",
    "- MMSI\n",
    "    * ?\n",
    "- Speed\n",
    "    * The speed (in knots x10) that the subject vessel is reporting according to AIS transmissions\n",
    "- COG\n",
    "    * Course Over Ground<br> COG=3600 means “not available”\n",
    "- Destination\n",
    "    * The Destination of the subject vessel according to the AIS transmissions\n",
    "- Ship_type\n",
    "    * The Shiptype of the subject vessel according to AIS transmissions -\n",
    "- Gross_tonnage\n",
    "    * unitless measure that calculates the moulded volume of all enclosed spaces of a ship\n",
    "- Length\n",
    "    * The overall Length (in metres) of the subject vessel\n",
    "- Breadth\n",
    "    * The Breadth (in metres) of the subject vessel"
   ]
  },
  {
   "cell_type": "markdown",
   "metadata": {},
   "source": [
    "### Questions (add your answer below each question):"
   ]
  },
  {
   "cell_type": "markdown",
   "metadata": {},
   "source": [
    "#### a) What does the column/feature MMSI represent, how unique is it and when is it updated?\n",
    "Maritime Mobile Service Identity, unique to each ship and it's owner"
   ]
  },
  {
   "cell_type": "markdown",
   "metadata": {},
   "source": [
    "#### b) Out of the exercise data attributes, mention two examples of dynamic (updated more frequently, automatically or manually) and static (set on installation and updated only when ship ownership changes) data collected.<br>\n",
    "Dynamic:\n",
    "Speed, COG\n",
    "\n",
    "Static:\n",
    "MMSI, Ship_type"
   ]
  },
  {
   "cell_type": "markdown",
   "metadata": {},
   "source": [
    "#### c) Which information is/has been manually updated?<br>\n",
    "Navigational status, Ship's draught, Hazardous cargo (type), Destination and ETA, Route plan"
   ]
  },
  {
   "cell_type": "markdown",
   "metadata": {},
   "source": [
    "#### d) For the vessel with the MMSI of 538002778, search for gross tonnage, length and breadth.<br>\n",
    "Gross tonnage: 30641\n",
    "Length: 195m\n",
    "Breadth: 32,24m"
   ]
  },
  {
   "cell_type": "markdown",
   "metadata": {},
   "source": [
    "## 2. Data import"
   ]
  },
  {
   "cell_type": "markdown",
   "metadata": {},
   "source": [
    "#### a) First upload datafiles shipdata1.csv and shipdata2.csv using pandas.\n",
    "Note! Files were prepared by two different persons, so there are differences in the file formatting, starting from columns separator.<br>\n",
    "\n",
    "Read data from the open data source directly using the link. Use the url to obtain the data, not a local copy of the file.<br>\n",
    "\n",
    "- https://raw.githubusercontent.com/elmasyr/dadk/main/shipdata1_2020.csv\n",
    "- https://raw.githubusercontent.com/elmasyr/dadk/main/shipdata2_2020.csv"
   ]
  },
  {
   "cell_type": "markdown",
   "metadata": {},
   "source": [
    "#### b) Print/show in notebook first 5 rows of both dataframes. "
   ]
  },
  {
   "cell_type": "code",
   "execution_count": 2,
   "metadata": {},
   "outputs": [
    {
     "name": "stdout",
     "output_type": "stream",
     "text": [
      "        MMSI    Speed      COG Destination Ship_type  Gross_tonnage  Length  \\\n",
      "0  212209000  10.1000  64.3000      Hamina     Cargo           3416    94.9   \n",
      "1  212436000  13.5256  77.0755      Hamina    Tanker           6280   116.9   \n",
      "2  219082000   9.9000  74.7000      Hamina    Tanker           9980   141.2   \n",
      "3  219083000  11.6038  74.8000      Hamina    Tanker           9980   141.2   \n",
      "4  219426000  11.9203  56.3253      Hamina    Tanker           3219    99.9   \n",
      "\n",
      "   Breadth  \n",
      "0     15.3  \n",
      "1     18.0  \n",
      "2     21.9  \n",
      "3     21.6  \n",
      "4     15.0  \n"
     ]
    }
   ],
   "source": [
    "# Reading shipdata1 and print first 5 rows\n",
    "url = \"https://raw.githubusercontent.com/elmasyr/dadk/main/shipdata1_2020.csv\"\n",
    "shipdata1 = pd.read_csv(url)\n",
    "print(shipdata1[:5])\n"
   ]
  },
  {
   "cell_type": "code",
   "execution_count": 3,
   "metadata": {},
   "outputs": [
    {
     "name": "stdout",
     "output_type": "stream",
     "text": [
      "        MMSI    Speed      COG Destination Ship_type  Gross_tonnage  Length  \\\n",
      "0  538002778  11,3631  74,6552      Porvoo       NaN          30641     195   \n",
      "1  636016752     11,7     74,6      Porvoo    Tanker           3853    92,9   \n",
      "2  244870429  11,7126  69,5662      Porvoo    Tanker           7251     115   \n",
      "3  305653000  10,8253  56,4266      Porvoo     Cargo           6668  107,03   \n",
      "4  235060255  11,7311     80,9    Primorsk    Tanker          23353   184,0   \n",
      "\n",
      "  Breadth  \n",
      "0   32,24  \n",
      "1    15,3  \n",
      "2    18,6  \n",
      "3   18,42  \n",
      "4    27,7  \n"
     ]
    }
   ],
   "source": [
    "# Reading shipdata2 and print first 5 rows\n",
    "url = \"https://raw.githubusercontent.com/elmasyr/dadk/main/shipdata2_2020.csv\"\n",
    "shipdata2 = pd.read_csv(url,sep=\";\")\n",
    "print(shipdata2[:5])"
   ]
  },
  {
   "cell_type": "markdown",
   "metadata": {},
   "source": [
    "## 3. Fix numeric data"
   ]
  },
  {
   "cell_type": "markdown",
   "metadata": {},
   "source": [
    "#### a) The dataframes have one systematic difference in numerical values. Look at the previous printouts: **What is the difference?**"
   ]
  },
  {
   "cell_type": "markdown",
   "metadata": {},
   "source": [
    "Decimal point is different; shipdata1 has \".\" and shipdata2 \",\""
   ]
  },
  {
   "cell_type": "markdown",
   "metadata": {},
   "source": [
    "#### b) Fix this issue so that you correct shipdata2 dataframe to similar formatting as in shipdata1."
   ]
  },
  {
   "cell_type": "code",
   "execution_count": 4,
   "metadata": {},
   "outputs": [],
   "source": [
    "# Reading shipdata2 again and setting \",\" to be recognized as decimal point\n",
    "url = \"https://raw.githubusercontent.com/elmasyr/dadk/main/shipdata2_2020.csv\"\n",
    "shipdata2 = pd.read_csv(url,sep=\";\", decimal=\",\")"
   ]
  },
  {
   "cell_type": "markdown",
   "metadata": {},
   "source": [
    "#### c) Print first 5 rows of updated shipdata2 dataframe. "
   ]
  },
  {
   "cell_type": "code",
   "execution_count": 5,
   "metadata": {},
   "outputs": [
    {
     "name": "stdout",
     "output_type": "stream",
     "text": [
      "        MMSI    Speed      COG Destination Ship_type  Gross_tonnage  Length  \\\n",
      "0  538002778  11.3631  74.6552      Porvoo       NaN          30641  195.00   \n",
      "1  636016752  11.7000  74.6000      Porvoo    Tanker           3853   92.90   \n",
      "2  244870429  11.7126  69.5662      Porvoo    Tanker           7251  115.00   \n",
      "3  305653000  10.8253  56.4266      Porvoo     Cargo           6668  107.03   \n",
      "4  235060255  11.7311  80.9000    Primorsk    Tanker          23353  184.00   \n",
      "\n",
      "   Breadth  \n",
      "0    32.24  \n",
      "1    15.30  \n",
      "2    18.60  \n",
      "3    18.42  \n",
      "4    27.70  \n"
     ]
    }
   ],
   "source": [
    "print(shipdata2[:5])\n"
   ]
  },
  {
   "cell_type": "markdown",
   "metadata": {},
   "source": [
    "## 4. Combine dataframes together"
   ]
  },
  {
   "cell_type": "markdown",
   "metadata": {},
   "source": [
    "Tip for this section: Each subtask can be easily applied with one (or two) line(s) of code when using Pandas."
   ]
  },
  {
   "cell_type": "markdown",
   "metadata": {},
   "source": [
    "#### a) Add an additional column/attribute Origin which indicates the origin of the data (values 1, 2, according to shipdata name). This is often helpful for possible detective work, if there are any further direpancies in the data."
   ]
  },
  {
   "cell_type": "code",
   "execution_count": 6,
   "metadata": {},
   "outputs": [],
   "source": [
    "# Add a new column with value of 1 for shipdata1 and 2 for shipdata2\n",
    "shipdata1[\"Origin\"] = 1\n",
    "shipdata2[\"Origin\"] = 2"
   ]
  },
  {
   "cell_type": "markdown",
   "metadata": {},
   "source": [
    "#### b) Combine the two separate dataframes as one new dataframe."
   ]
  },
  {
   "cell_type": "code",
   "execution_count": 7,
   "metadata": {},
   "outputs": [],
   "source": [
    "# Create a new dataframe, combining two old ones\n",
    "# Skip shipdata2 column names and indexing\n",
    "shipdata3 = pd.concat([shipdata1, shipdata2], ignore_index=True)"
   ]
  },
  {
   "cell_type": "markdown",
   "metadata": {},
   "source": [
    "#### c) Check a sample of the new dataframe by random sample of six rows.\n"
   ]
  },
  {
   "cell_type": "code",
   "execution_count": 8,
   "metadata": {},
   "outputs": [
    {
     "data": {
      "text/html": [
       "<div>\n",
       "<style scoped>\n",
       "    .dataframe tbody tr th:only-of-type {\n",
       "        vertical-align: middle;\n",
       "    }\n",
       "\n",
       "    .dataframe tbody tr th {\n",
       "        vertical-align: top;\n",
       "    }\n",
       "\n",
       "    .dataframe thead th {\n",
       "        text-align: right;\n",
       "    }\n",
       "</style>\n",
       "<table border=\"1\" class=\"dataframe\">\n",
       "  <thead>\n",
       "    <tr style=\"text-align: right;\">\n",
       "      <th></th>\n",
       "      <th>MMSI</th>\n",
       "      <th>Speed</th>\n",
       "      <th>COG</th>\n",
       "      <th>Destination</th>\n",
       "      <th>Ship_type</th>\n",
       "      <th>Gross_tonnage</th>\n",
       "      <th>Length</th>\n",
       "      <th>Breadth</th>\n",
       "      <th>Origin</th>\n",
       "    </tr>\n",
       "  </thead>\n",
       "  <tbody>\n",
       "    <tr>\n",
       "      <th>15</th>\n",
       "      <td>245772000</td>\n",
       "      <td>12.8776</td>\n",
       "      <td>69.6004</td>\n",
       "      <td>Hamina</td>\n",
       "      <td>Cargo</td>\n",
       "      <td>4235</td>\n",
       "      <td>108.5</td>\n",
       "      <td>15.9</td>\n",
       "      <td>1</td>\n",
       "    </tr>\n",
       "    <tr>\n",
       "      <th>35</th>\n",
       "      <td>249207000</td>\n",
       "      <td>11.0000</td>\n",
       "      <td>74.4000</td>\n",
       "      <td>Muuga</td>\n",
       "      <td>Tanker</td>\n",
       "      <td>11935</td>\n",
       "      <td>144.1</td>\n",
       "      <td>23.0</td>\n",
       "      <td>1</td>\n",
       "    </tr>\n",
       "    <tr>\n",
       "      <th>125</th>\n",
       "      <td>538090268</td>\n",
       "      <td>7.5000</td>\n",
       "      <td>75.7000</td>\n",
       "      <td>Vuosaari</td>\n",
       "      <td>Cargo</td>\n",
       "      <td>17360</td>\n",
       "      <td>178.6</td>\n",
       "      <td>27.7</td>\n",
       "      <td>2</td>\n",
       "    </tr>\n",
       "    <tr>\n",
       "      <th>100</th>\n",
       "      <td>636012813</td>\n",
       "      <td>11.4000</td>\n",
       "      <td>77.0000</td>\n",
       "      <td>Ust-Luga</td>\n",
       "      <td>Tanker</td>\n",
       "      <td>65293</td>\n",
       "      <td>250.0</td>\n",
       "      <td>44.1</td>\n",
       "      <td>2</td>\n",
       "    </tr>\n",
       "    <tr>\n",
       "      <th>87</th>\n",
       "      <td>230941170</td>\n",
       "      <td>9.1000</td>\n",
       "      <td>109.9000</td>\n",
       "      <td>Tallinn</td>\n",
       "      <td>Tug</td>\n",
       "      <td>139</td>\n",
       "      <td>26.8</td>\n",
       "      <td>7.5</td>\n",
       "      <td>2</td>\n",
       "    </tr>\n",
       "    <tr>\n",
       "      <th>2</th>\n",
       "      <td>219082000</td>\n",
       "      <td>9.9000</td>\n",
       "      <td>74.7000</td>\n",
       "      <td>Hamina</td>\n",
       "      <td>Tanker</td>\n",
       "      <td>9980</td>\n",
       "      <td>141.2</td>\n",
       "      <td>21.9</td>\n",
       "      <td>1</td>\n",
       "    </tr>\n",
       "  </tbody>\n",
       "</table>\n",
       "</div>"
      ],
      "text/plain": [
       "          MMSI    Speed       COG Destination Ship_type  Gross_tonnage  \\\n",
       "15   245772000  12.8776   69.6004      Hamina     Cargo           4235   \n",
       "35   249207000  11.0000   74.4000       Muuga    Tanker          11935   \n",
       "125  538090268   7.5000   75.7000    Vuosaari     Cargo          17360   \n",
       "100  636012813  11.4000   77.0000    Ust-Luga    Tanker          65293   \n",
       "87   230941170   9.1000  109.9000     Tallinn       Tug            139   \n",
       "2    219082000   9.9000   74.7000      Hamina    Tanker           9980   \n",
       "\n",
       "     Length  Breadth  Origin  \n",
       "15    108.5     15.9       1  \n",
       "35    144.1     23.0       1  \n",
       "125   178.6     27.7       2  \n",
       "100   250.0     44.1       2  \n",
       "87     26.8      7.5       2  \n",
       "2     141.2     21.9       1  "
      ]
     },
     "execution_count": 8,
     "metadata": {},
     "output_type": "execute_result"
    }
   ],
   "source": [
    "shipdata3.sample(6)"
   ]
  },
  {
   "cell_type": "markdown",
   "metadata": {},
   "source": [
    "#### d) Check the shape of the new dataframe, try using df.info(). What information can you find in the output?"
   ]
  },
  {
   "cell_type": "code",
   "execution_count": 9,
   "metadata": {},
   "outputs": [
    {
     "name": "stdout",
     "output_type": "stream",
     "text": [
      "<class 'pandas.core.frame.DataFrame'>\n",
      "RangeIndex: 136 entries, 0 to 135\n",
      "Data columns (total 9 columns):\n",
      " #   Column         Non-Null Count  Dtype  \n",
      "---  ------         --------------  -----  \n",
      " 0   MMSI           136 non-null    int64  \n",
      " 1   Speed          136 non-null    float64\n",
      " 2   COG            136 non-null    float64\n",
      " 3   Destination    136 non-null    object \n",
      " 4   Ship_type      135 non-null    object \n",
      " 5   Gross_tonnage  136 non-null    int64  \n",
      " 6   Length         136 non-null    float64\n",
      " 7   Breadth        136 non-null    float64\n",
      " 8   Origin         136 non-null    int64  \n",
      "dtypes: float64(4), int64(3), object(2)\n",
      "memory usage: 9.7+ KB\n"
     ]
    }
   ],
   "source": [
    "shipdata3.info()\n"
   ]
  },
  {
   "cell_type": "markdown",
   "metadata": {},
   "source": [
    "Info found in df.info: number of columns and their names, number of items in the dataframe and data types"
   ]
  },
  {
   "cell_type": "markdown",
   "metadata": {},
   "source": [
    "## 5. Data cleaning"
   ]
  },
  {
   "cell_type": "markdown",
   "metadata": {},
   "source": [
    "### Check if there is any missing data or duplicates.\n",
    "#### a) Are there missing values?"
   ]
  },
  {
   "cell_type": "code",
   "execution_count": 10,
   "metadata": {},
   "outputs": [
    {
     "name": "stdout",
     "output_type": "stream",
     "text": [
      "<class 'pandas.core.frame.DataFrame'>\n",
      "RangeIndex: 136 entries, 0 to 135\n",
      "Data columns (total 9 columns):\n",
      " #   Column         Non-Null Count  Dtype  \n",
      "---  ------         --------------  -----  \n",
      " 0   MMSI           136 non-null    int64  \n",
      " 1   Speed          136 non-null    float64\n",
      " 2   COG            136 non-null    float64\n",
      " 3   Destination    136 non-null    object \n",
      " 4   Ship_type      135 non-null    object \n",
      " 5   Gross_tonnage  136 non-null    int64  \n",
      " 6   Length         136 non-null    float64\n",
      " 7   Breadth        136 non-null    float64\n",
      " 8   Origin         136 non-null    int64  \n",
      "dtypes: float64(4), int64(3), object(2)\n",
      "memory usage: 9.7+ KB\n"
     ]
    }
   ],
   "source": [
    "shipdata3.info()"
   ]
  },
  {
   "cell_type": "markdown",
   "metadata": {},
   "source": [
    "One \"Ship_type\" is missing"
   ]
  },
  {
   "cell_type": "code",
   "execution_count": 11,
   "metadata": {},
   "outputs": [
    {
     "name": "stdout",
     "output_type": "stream",
     "text": [
      "         MMSI    Speed      COG Destination Ship_type  Gross_tonnage  Length  \\\n",
      "69  538002778  11.3631  74.6552      Porvoo       NaN          30641   195.0   \n",
      "\n",
      "    Breadth  Origin  \n",
      "69    32.24       2  \n"
     ]
    }
   ],
   "source": [
    "# Confirm by printing rows with at least 1 NaN values\n",
    "null_data = shipdata3[shipdata3.isnull().any(axis=1)]\n",
    "print(null_data)"
   ]
  },
  {
   "cell_type": "markdown",
   "metadata": {},
   "source": [
    "Ship_type of 538002778 is missing"
   ]
  },
  {
   "cell_type": "markdown",
   "metadata": {},
   "source": [
    "#### b) Any duplilcate data; any vessel in the dataframe several times?"
   ]
  },
  {
   "cell_type": "code",
   "execution_count": 12,
   "metadata": {},
   "outputs": [
    {
     "name": "stdout",
     "output_type": "stream",
     "text": [
      "         MMSI    Speed      COG Destination Ship_type  Gross_tonnage  Length  \\\n",
      "66  538002778  11.3631  74.6552      Porvoo    Tanker          30641   195.0   \n",
      "68  636016752  11.7000  74.6000      Porvoo    Tanker           3853    92.9   \n",
      "69  538002778  11.3631  74.6552      Porvoo       NaN          30641   195.0   \n",
      "70  636016752  11.7000  74.6000      Porvoo    Tanker           3853    92.9   \n",
      "\n",
      "    Breadth  Origin  \n",
      "66    32.24       1  \n",
      "68    15.30       1  \n",
      "69    32.24       2  \n",
      "70    15.30       2  \n"
     ]
    }
   ],
   "source": [
    "dupes = shipdata3[shipdata3.duplicated(\"MMSI\", keep=False)] # keep removes unduplicated entries here\n",
    "print(dupes)"
   ]
  },
  {
   "cell_type": "markdown",
   "metadata": {},
   "source": [
    "There are two ships duplicated; 538002778 and 636016752"
   ]
  },
  {
   "cell_type": "markdown",
   "metadata": {},
   "source": [
    "#### c) Resolve missing data and remove duplicate data.\n",
    "Tip! Two rows should be removed, but which ones?"
   ]
  },
  {
   "cell_type": "code",
   "execution_count": 13,
   "metadata": {},
   "outputs": [
    {
     "data": {
      "text/html": [
       "<div>\n",
       "<style scoped>\n",
       "    .dataframe tbody tr th:only-of-type {\n",
       "        vertical-align: middle;\n",
       "    }\n",
       "\n",
       "    .dataframe tbody tr th {\n",
       "        vertical-align: top;\n",
       "    }\n",
       "\n",
       "    .dataframe thead th {\n",
       "        text-align: right;\n",
       "    }\n",
       "</style>\n",
       "<table border=\"1\" class=\"dataframe\">\n",
       "  <thead>\n",
       "    <tr style=\"text-align: right;\">\n",
       "      <th></th>\n",
       "      <th>index</th>\n",
       "      <th>MMSI</th>\n",
       "      <th>Speed</th>\n",
       "      <th>COG</th>\n",
       "      <th>Destination</th>\n",
       "      <th>Ship_type</th>\n",
       "      <th>Gross_tonnage</th>\n",
       "      <th>Length</th>\n",
       "      <th>Breadth</th>\n",
       "      <th>Origin</th>\n",
       "    </tr>\n",
       "  </thead>\n",
       "  <tbody>\n",
       "    <tr>\n",
       "      <th>0</th>\n",
       "      <td>0</td>\n",
       "      <td>212209000</td>\n",
       "      <td>10.1000</td>\n",
       "      <td>64.3000</td>\n",
       "      <td>Hamina</td>\n",
       "      <td>Cargo</td>\n",
       "      <td>3416</td>\n",
       "      <td>94.90</td>\n",
       "      <td>15.30</td>\n",
       "      <td>1</td>\n",
       "    </tr>\n",
       "    <tr>\n",
       "      <th>1</th>\n",
       "      <td>1</td>\n",
       "      <td>212436000</td>\n",
       "      <td>13.5256</td>\n",
       "      <td>77.0755</td>\n",
       "      <td>Hamina</td>\n",
       "      <td>Tanker</td>\n",
       "      <td>6280</td>\n",
       "      <td>116.90</td>\n",
       "      <td>18.00</td>\n",
       "      <td>1</td>\n",
       "    </tr>\n",
       "    <tr>\n",
       "      <th>2</th>\n",
       "      <td>2</td>\n",
       "      <td>219082000</td>\n",
       "      <td>9.9000</td>\n",
       "      <td>74.7000</td>\n",
       "      <td>Hamina</td>\n",
       "      <td>Tanker</td>\n",
       "      <td>9980</td>\n",
       "      <td>141.20</td>\n",
       "      <td>21.90</td>\n",
       "      <td>1</td>\n",
       "    </tr>\n",
       "    <tr>\n",
       "      <th>3</th>\n",
       "      <td>3</td>\n",
       "      <td>219083000</td>\n",
       "      <td>11.6038</td>\n",
       "      <td>74.8000</td>\n",
       "      <td>Hamina</td>\n",
       "      <td>Tanker</td>\n",
       "      <td>9980</td>\n",
       "      <td>141.20</td>\n",
       "      <td>21.60</td>\n",
       "      <td>1</td>\n",
       "    </tr>\n",
       "    <tr>\n",
       "      <th>4</th>\n",
       "      <td>4</td>\n",
       "      <td>219426000</td>\n",
       "      <td>11.9203</td>\n",
       "      <td>56.3253</td>\n",
       "      <td>Hamina</td>\n",
       "      <td>Tanker</td>\n",
       "      <td>3219</td>\n",
       "      <td>99.90</td>\n",
       "      <td>15.00</td>\n",
       "      <td>1</td>\n",
       "    </tr>\n",
       "    <tr>\n",
       "      <th>...</th>\n",
       "      <td>...</td>\n",
       "      <td>...</td>\n",
       "      <td>...</td>\n",
       "      <td>...</td>\n",
       "      <td>...</td>\n",
       "      <td>...</td>\n",
       "      <td>...</td>\n",
       "      <td>...</td>\n",
       "      <td>...</td>\n",
       "      <td>...</td>\n",
       "    </tr>\n",
       "    <tr>\n",
       "      <th>129</th>\n",
       "      <td>131</td>\n",
       "      <td>273374820</td>\n",
       "      <td>10.0000</td>\n",
       "      <td>74.6000</td>\n",
       "      <td>Vysotsk</td>\n",
       "      <td>Tanker</td>\n",
       "      <td>4979</td>\n",
       "      <td>1399.00</td>\n",
       "      <td>16.70</td>\n",
       "      <td>2</td>\n",
       "    </tr>\n",
       "    <tr>\n",
       "      <th>130</th>\n",
       "      <td>132</td>\n",
       "      <td>273385070</td>\n",
       "      <td>9.4000</td>\n",
       "      <td>74.5000</td>\n",
       "      <td>Vysotsk</td>\n",
       "      <td>Tanker</td>\n",
       "      <td>4979</td>\n",
       "      <td>139.90</td>\n",
       "      <td>16.90</td>\n",
       "      <td>2</td>\n",
       "    </tr>\n",
       "    <tr>\n",
       "      <th>131</th>\n",
       "      <td>133</td>\n",
       "      <td>273388150</td>\n",
       "      <td>9.7668</td>\n",
       "      <td>68.7159</td>\n",
       "      <td>Vysotsk</td>\n",
       "      <td>Tanker</td>\n",
       "      <td>5075</td>\n",
       "      <td>140.90</td>\n",
       "      <td>16.90</td>\n",
       "      <td>2</td>\n",
       "    </tr>\n",
       "    <tr>\n",
       "      <th>132</th>\n",
       "      <td>134</td>\n",
       "      <td>636092755</td>\n",
       "      <td>11.2000</td>\n",
       "      <td>73.7000</td>\n",
       "      <td>Vysotsk</td>\n",
       "      <td>Tanker</td>\n",
       "      <td>23240</td>\n",
       "      <td>183.00</td>\n",
       "      <td>27.40</td>\n",
       "      <td>2</td>\n",
       "    </tr>\n",
       "    <tr>\n",
       "      <th>133</th>\n",
       "      <td>135</td>\n",
       "      <td>357100000</td>\n",
       "      <td>11.2703</td>\n",
       "      <td>59.3888</td>\n",
       "      <td>Vysotsk</td>\n",
       "      <td>Cargo</td>\n",
       "      <td>43717</td>\n",
       "      <td>229.04</td>\n",
       "      <td>32.31</td>\n",
       "      <td>2</td>\n",
       "    </tr>\n",
       "  </tbody>\n",
       "</table>\n",
       "<p>134 rows × 10 columns</p>\n",
       "</div>"
      ],
      "text/plain": [
       "     index       MMSI    Speed      COG Destination Ship_type  Gross_tonnage  \\\n",
       "0        0  212209000  10.1000  64.3000      Hamina     Cargo           3416   \n",
       "1        1  212436000  13.5256  77.0755      Hamina    Tanker           6280   \n",
       "2        2  219082000   9.9000  74.7000      Hamina    Tanker           9980   \n",
       "3        3  219083000  11.6038  74.8000      Hamina    Tanker           9980   \n",
       "4        4  219426000  11.9203  56.3253      Hamina    Tanker           3219   \n",
       "..     ...        ...      ...      ...         ...       ...            ...   \n",
       "129    131  273374820  10.0000  74.6000     Vysotsk    Tanker           4979   \n",
       "130    132  273385070   9.4000  74.5000     Vysotsk    Tanker           4979   \n",
       "131    133  273388150   9.7668  68.7159     Vysotsk    Tanker           5075   \n",
       "132    134  636092755  11.2000  73.7000     Vysotsk    Tanker          23240   \n",
       "133    135  357100000  11.2703  59.3888     Vysotsk     Cargo          43717   \n",
       "\n",
       "      Length  Breadth  Origin  \n",
       "0      94.90    15.30       1  \n",
       "1     116.90    18.00       1  \n",
       "2     141.20    21.90       1  \n",
       "3     141.20    21.60       1  \n",
       "4      99.90    15.00       1  \n",
       "..       ...      ...     ...  \n",
       "129  1399.00    16.70       2  \n",
       "130   139.90    16.90       2  \n",
       "131   140.90    16.90       2  \n",
       "132   183.00    27.40       2  \n",
       "133   229.04    32.31       2  \n",
       "\n",
       "[134 rows x 10 columns]"
      ]
     },
     "execution_count": 13,
     "metadata": {},
     "output_type": "execute_result"
    }
   ],
   "source": [
    "shipdata3_fix = shipdata3.drop_duplicates(\"MMSI\")\n",
    "shipdata3_fix.reset_index() # resets index back to normal"
   ]
  },
  {
   "cell_type": "markdown",
   "metadata": {},
   "source": [
    "One of the duplicated ships was the one with missing ship_type, so keeping the first instance of duplicates solves the missing ship_type problem as well"
   ]
  },
  {
   "cell_type": "markdown",
   "metadata": {},
   "source": [
    "## 6. Descriptive statistics"
   ]
  },
  {
   "cell_type": "markdown",
   "metadata": {},
   "source": [
    "####  a) Check data types and correct if needed\n",
    "\n",
    "Because Python does not require separate variable declaration, it is always a good practice to check the data types. Check the data types for the attributes and \n",
    "- convert MMSI to object or string if needed (e.g. to exclude from numeric comparison)\n",
    "- convert object or string typed numeric attributes to float."
   ]
  },
  {
   "cell_type": "code",
   "execution_count": 14,
   "metadata": {},
   "outputs": [
    {
     "data": {
      "text/plain": [
       "MMSI               int64\n",
       "Speed            float64\n",
       "COG              float64\n",
       "Destination       object\n",
       "Ship_type         object\n",
       "Gross_tonnage      int64\n",
       "Length           float64\n",
       "Breadth          float64\n",
       "Origin             int64\n",
       "dtype: object"
      ]
     },
     "execution_count": 14,
     "metadata": {},
     "output_type": "execute_result"
    }
   ],
   "source": [
    "# Original dtypes\n",
    "df = shipdata3_fix # reset back\n",
    "df.dtypes"
   ]
  },
  {
   "cell_type": "code",
   "execution_count": 15,
   "metadata": {},
   "outputs": [
    {
     "data": {
      "text/plain": [
       "MMSI              object\n",
       "Speed            float64\n",
       "COG              float64\n",
       "Destination       object\n",
       "Ship_type         object\n",
       "Gross_tonnage    float64\n",
       "Length           float64\n",
       "Breadth          float64\n",
       "Origin           float64\n",
       "dtype: object"
      ]
     },
     "execution_count": 15,
     "metadata": {},
     "output_type": "execute_result"
    }
   ],
   "source": [
    "# Modified dtypes\n",
    "dfn = df\n",
    "dfn = dfn.astype({\"MMSI\": \"object\", \"Gross_tonnage\": \"float64\", \"Origin\": \"float64\"})\n",
    "dfn.dtypes"
   ]
  },
  {
   "cell_type": "markdown",
   "metadata": {},
   "source": [
    "## b) Print count, mean. Std, min, quartiles (25%, 50%, 75%) and max for all numeric attributes \n",
    "\n",
    "Questions: Check the values. Does the comparison make sense here, taken also the meaning of each attribute (i.e. understand your data)?"
   ]
  },
  {
   "cell_type": "code",
   "execution_count": 16,
   "metadata": {},
   "outputs": [],
   "source": [
    "import statistics as st"
   ]
  },
  {
   "cell_type": "code",
   "execution_count": 17,
   "metadata": {},
   "outputs": [],
   "source": [
    "# function to print the wanted attributes\n",
    "def prints(atr, dfn):\n",
    "    print(atr+\":\")\n",
    "    print(\"count: \"+str(len(dfn[atr])))\n",
    "    print(\"mean: \"+str(st.mean(dfn[atr])))\n",
    "    print(\"min: \"+str(min(dfn[atr])))\n",
    "    print(str(dfn[atr].quantile([0.25,0.5,0.75])))\n",
    "    print(\"max: \"+str(max(dfn[atr])))"
   ]
  },
  {
   "cell_type": "code",
   "execution_count": 18,
   "metadata": {},
   "outputs": [
    {
     "name": "stdout",
     "output_type": "stream",
     "text": [
      "Speed:\n",
      "count: 134\n",
      "mean: 10.453008955223881\n",
      "min: 5.5\n",
      "0.25     8.961525\n",
      "0.50    10.300000\n",
      "0.75    11.709450\n",
      "Name: Speed, dtype: float64\n",
      "max: 17.0825\n",
      "COG:\n",
      "count: 134\n",
      "mean: 78.27120447761195\n",
      "min: 53.3264\n",
      "0.25    71.0531\n",
      "0.50    74.8500\n",
      "0.75    81.2369\n",
      "Name: COG, dtype: float64\n",
      "max: 157.2673\n",
      "Gross_tonnage:\n",
      "count: 134\n",
      "mean: 13535.291044776119\n",
      "min: 100.0\n",
      "0.25     2551.25\n",
      "0.50     5348.50\n",
      "0.75    15558.25\n",
      "Name: Gross_tonnage, dtype: float64\n",
      "max: 81502.0\n",
      "Length:\n",
      "count: 134\n",
      "mean: 136.669776119403\n",
      "min: 15.0\n",
      "0.25     88.925\n",
      "0.50    115.000\n",
      "0.75    160.810\n",
      "Name: Length, dtype: float64\n",
      "max: 1399.0\n",
      "Breadth:\n",
      "count: 134\n",
      "mean: 20.186716417910446\n",
      "min: 5.0\n",
      "0.25    12.90\n",
      "0.50    16.90\n",
      "0.75    24.88\n",
      "Name: Breadth, dtype: float64\n",
      "max: 48.04\n"
     ]
    }
   ],
   "source": [
    "for i in [\"Speed\", \"COG\", \"Gross_tonnage\", \"Length\", \"Breadth\"]:\n",
    "    prints(i,dfn)"
   ]
  },
  {
   "cell_type": "markdown",
   "metadata": {},
   "source": [
    "Speed: You can see the average and max speed of the ships\n",
    "\n",
    "COG: doesn't really mean anything here. Average direction of ships is rather meaningles. \n",
    "\n",
    "Tonnage, Length, Width: can see if your ships are mostly small or big\n",
    "\n",
    "Max length of 1399(meters) is pretty long and probably not correct\n",
    "\n",
    "If its in feets its ok..."
   ]
  },
  {
   "cell_type": "markdown",
   "metadata": {},
   "source": [
    "#### c) Choose Breadth and two (2) other numeric attributes that you would like to focus and know more. Print descriptive statistics only for these."
   ]
  },
  {
   "cell_type": "code",
   "execution_count": 19,
   "metadata": {},
   "outputs": [
    {
     "name": "stdout",
     "output_type": "stream",
     "text": [
      "count    134.000000\n",
      "mean      20.186716\n",
      "std        9.943960\n",
      "min        5.000000\n",
      "25%       12.900000\n",
      "50%       16.900000\n",
      "75%       24.880000\n",
      "max       48.040000\n",
      "Name: Breadth, dtype: float64\n",
      "count     134.000000\n",
      "mean      136.669776\n",
      "std       124.040522\n",
      "min        15.000000\n",
      "25%        88.925000\n",
      "50%       115.000000\n",
      "75%       160.810000\n",
      "max      1399.000000\n",
      "Name: Length, dtype: float64\n",
      "count    134.000000\n",
      "mean      10.453009\n",
      "std        1.955434\n",
      "min        5.500000\n",
      "25%        8.961525\n",
      "50%       10.300000\n",
      "75%       11.709450\n",
      "max       17.082500\n",
      "Name: Speed, dtype: float64\n"
     ]
    }
   ],
   "source": [
    "print(dfn[\"Breadth\"].describe())\n",
    "print(dfn[\"Length\"].describe())\n",
    "print(dfn[\"Speed\"].describe())\n"
   ]
  },
  {
   "cell_type": "markdown",
   "metadata": {},
   "source": [
    "#### d) Descriptive statistics by Ship_type\n",
    "Print the descriptive statistics now by each ship type for those three attributes used in the previous task.<br>\n",
    "Tip! A wide Pandas table can be easily rotated using transpose, for better readability in the jupyter notebook.<br>\n",
    "\n",
    "Questions: How many ship types there are? Which Ship type has the largest breadth?"
   ]
  },
  {
   "cell_type": "code",
   "execution_count": 20,
   "metadata": {},
   "outputs": [
    {
     "name": "stdout",
     "output_type": "stream",
     "text": [
      "['Cargo' 'Tanker' 'Tug']\n",
      "\n",
      "Cargo\n",
      "\n",
      "         count        mean        std   min    25%    50%       75%       max\n",
      "Breadth   67.0   16.841493   5.984697  10.5  12.50   14.4   18.7500   32.3100\n",
      "Length    67.0  111.993582  37.235145  64.2  87.87  100.0  123.7500  229.0400\n",
      "Speed     67.0    9.946178   1.902921   7.4   8.60    9.8   10.8587   17.0825\n",
      "\n",
      "Tanker\n",
      "\n",
      "         count        mean         std   min         25%        50%  \\\n",
      "Breadth   58.0   25.862759   11.016503   8.1   16.900000   22.05000   \n",
      "Length    58.0  181.951379  172.170048  46.9  118.000000  144.10000   \n",
      "Speed     58.0   11.339816    1.700933   5.5   10.516825   11.60795   \n",
      "\n",
      "                75%        max  \n",
      "Breadth   32.200000    48.0400  \n",
      "Length   195.000000  1399.0000  \n",
      "Speed     12.314025    14.6805  \n",
      "\n",
      "Tug\n",
      "\n",
      "         count       mean       std   min   25%   50%   75%   max\n",
      "Breadth    9.0   8.511111  1.749603   5.0   7.5   9.0   9.8  10.5\n",
      "Length     9.0  28.555556  6.070031  15.0  26.8  31.0  32.9  33.3\n",
      "Speed      9.0   8.511111  0.993031   7.2   7.9   8.6   9.1   9.9\n"
     ]
    }
   ],
   "source": [
    "print(dfn[\"Ship_type\"].unique()) # print uniques values from ship_type\n",
    "for i in dfn[\"Ship_type\"].unique(): # for every type, print describe\n",
    "    print(\"\\n\" + i +\"\\n\")\n",
    "    print(dfn[dfn[\"Ship_type\"] == i][[\"Breadth\", \"Length\", \"Speed\"]].describe().transpose())\n"
   ]
  },
  {
   "cell_type": "markdown",
   "metadata": {},
   "source": [
    "Three types; Cargo, Tanker and Tug. Tankers lead the breadth race with 48.0400"
   ]
  },
  {
   "cell_type": "markdown",
   "metadata": {},
   "source": [
    "## 7. Attribute value distributions\n",
    "#### a) Plot four histrograms of the Breadth using the Sturges', Scott's, square root and Freedman-Diaconis' methods to determine the number of bins. How are the numbers of bins calculated? Compare the distributions of different ship types. Is this a feasible attribute for classification?"
   ]
  },
  {
   "cell_type": "code",
   "execution_count": 21,
   "metadata": {},
   "outputs": [
    {
     "data": {
      "image/png": "[encoded data removed]",
      "text/plain": [
       "<Figure size 432x288 with 4 Axes>"
      ]
     },
     "metadata": {
      "needs_background": "light"
     },
     "output_type": "display_data"
    }
   ],
   "source": [
    "plt.subplot(2,2,1)\n",
    "plt.hist(dfn[\"Breadth\"], bins=\"sturges\")\n",
    "\n",
    "plt.subplot(2,2,2)\n",
    "plt.hist(dfn[\"Breadth\"], bins=\"scott\")\n",
    "\n",
    "plt.subplot(2,2,3)\n",
    "plt.hist(dfn[\"Breadth\"], bins=\"fd\")\n",
    "\n",
    "plt.subplot(2,2,4)\n",
    "plt.hist(dfn[\"Breadth\"], bins=\"sqrt\")\n",
    "\n",
    "plt.show()"
   ]
  },
  {
   "cell_type": "markdown",
   "metadata": {},
   "source": [
    "How are bins calculated? \n",
    "\n",
    "Sturges':\n",
    "k = 1 + 3.322 log n\n",
    "\n",
    "Scott's:\n",
    "h = 3.49 * std.dev / cuberoot(n)\n",
    "\n",
    "Square root:\n",
    "k = sqrt(n)\n",
    "\n",
    "Freedman-Diaconis': \n",
    "\n",
    "h = 2 * IQR(x) / cuberoot(n)\n",
    "\n",
    "Where:\n",
    "k = number of bins\n",
    "n = number of items in the data set.\n",
    "h = bin width\n",
    "IQR = interquartile range"
   ]
  },
  {
   "cell_type": "code",
   "execution_count": 22,
   "metadata": {},
   "outputs": [
    {
     "data": {
      "image/png": "[encoded data removed]",
      "text/plain": [
       "<Figure size 432x288 with 3 Axes>"
      ]
     },
     "metadata": {
      "needs_background": "light"
     },
     "output_type": "display_data"
    }
   ],
   "source": [
    "plt.subplot(1,3,1)\n",
    "plt.hist(dfn[dfn[\"Ship_type\"] == \"Tanker\"][\"Breadth\"])\n",
    "\n",
    "plt.subplot(1,3,2)\n",
    "plt.hist(dfn[dfn[\"Ship_type\"] == \"Tug\"][\"Breadth\"])\n",
    "\n",
    "plt.subplot(1,3,3)\n",
    "plt.hist(dfn[dfn[\"Ship_type\"] == \"Cargo\"][\"Breadth\"])\n",
    "\n",
    "plt.subplots_adjust(right=2)\n",
    "plt.show()"
   ]
  },
  {
   "cell_type": "markdown",
   "metadata": {},
   "source": [
    "Tugs are pretty different from the others-> they could be distinguished by their breadth. Maybe also cargos and tankers; Cargos are more prominently on the narrower side"
   ]
  },
  {
   "cell_type": "markdown",
   "metadata": {},
   "source": [
    "#### b)\tExplain what a boxplot is. Plot them for the numeric attributes (excluding 'Origin') grouped by the ship type. Any outliers that require some action with the data?"
   ]
  },
  {
   "cell_type": "markdown",
   "metadata": {},
   "source": [
    "A plot where you can easily see min, max, quartiles and median \n"
   ]
  },
  {
   "cell_type": "code",
   "execution_count": 23,
   "metadata": {},
   "outputs": [
    {
     "data": {
      "image/png": "[encoded data removed]",
      "text/plain": [
       "<Figure size 432x288 with 5 Axes>"
      ]
     },
     "metadata": {
      "needs_background": "light"
     },
     "output_type": "display_data"
    }
   ],
   "source": [
    "plt.subplot(3,2,1)\n",
    "plt.boxplot([dfn[dfn[\"Ship_type\"] == \"Tanker\"][\"Speed\"],\n",
    "             dfn[dfn[\"Ship_type\"] == \"Tug\"][\"Speed\"],\n",
    "             dfn[dfn[\"Ship_type\"] == \"Cargo\"][\"Speed\"]])\n",
    "plt.xticks([1, 2, 3], ['Tanker', 'Tug', 'Cargo'])\n",
    "plt.title(\"Speed\")\n",
    "\n",
    "plt.subplot(3,2,2)\n",
    "plt.boxplot([dfn[dfn[\"Ship_type\"] == \"Tanker\"][\"COG\"],\n",
    "             dfn[dfn[\"Ship_type\"] == \"Tug\"][\"COG\"],\n",
    "             dfn[dfn[\"Ship_type\"] == \"Cargo\"][\"COG\"]])\n",
    "plt.xticks([1, 2, 3], ['Tanker', 'Tug', 'Cargo'])\n",
    "plt.title(\"COG\")\n",
    "\n",
    "plt.subplot(3,2,3)\n",
    "plt.boxplot([dfn[dfn[\"Ship_type\"] == \"Tanker\"][\"Gross_tonnage\"],\n",
    "             dfn[dfn[\"Ship_type\"] == \"Tug\"][\"Gross_tonnage\"],\n",
    "             dfn[dfn[\"Ship_type\"] == \"Cargo\"][\"Gross_tonnage\"]])\n",
    "plt.xticks([1, 2, 3], ['Tanker', 'Tug', 'Cargo'])\n",
    "plt.title(\"Gross_tonnage\")\n",
    "\n",
    "plt.subplot(3,2,4)\n",
    "plt.boxplot([dfn[dfn[\"Ship_type\"] == \"Tanker\"][\"Breadth\"],\n",
    "             dfn[dfn[\"Ship_type\"] == \"Tug\"][\"Breadth\"],\n",
    "             dfn[dfn[\"Ship_type\"] == \"Cargo\"][\"Breadth\"]])\n",
    "plt.xticks([1, 2, 3], ['Tanker', 'Tug', 'Cargo'])\n",
    "plt.title(\"Breadth\")\n",
    "\n",
    "plt.subplot(3,2,5)\n",
    "plt.boxplot([dfn[dfn[\"Ship_type\"] == \"Tanker\"][\"Length\"],\n",
    "             dfn[dfn[\"Ship_type\"] == \"Tug\"][\"Length\"],\n",
    "             dfn[dfn[\"Ship_type\"] == \"Cargo\"][\"Length\"]])\n",
    "plt.xticks([1, 2, 3], ['Tanker', 'Tug', 'Cargo'])\n",
    "plt.title(\"Length\")\n",
    "\n",
    "\n",
    "plt.subplots_adjust(right=3, top=3)\n",
    "plt.show()"
   ]
  },
  {
   "cell_type": "markdown",
   "metadata": {},
   "source": [
    "There are outliers. BIG tanker could be decimal error"
   ]
  },
  {
   "cell_type": "markdown",
   "metadata": {},
   "source": [
    "##  8. Relationships between attributes"
   ]
  },
  {
   "cell_type": "markdown",
   "metadata": {},
   "source": [
    "### Pairplots"
   ]
  },
  {
   "cell_type": "markdown",
   "metadata": {},
   "source": [
    "#### a) Plot pairwise scatter plots of the numerical attributes. What kind of relationships can you see? Can you see any outliers? "
   ]
  },
  {
   "cell_type": "code",
   "execution_count": 24,
   "metadata": {},
   "outputs": [],
   "source": [
    "import seaborn as sns"
   ]
  },
  {
   "cell_type": "code",
   "execution_count": 25,
   "metadata": {
    "scrolled": false
   },
   "outputs": [
    {
     "data": {
      "text/plain": [
       "<seaborn.axisgrid.PairGrid at 0x1ff15fb3580>"
      ]
     },
     "execution_count": 25,
     "metadata": {},
     "output_type": "execute_result"
    },
    {
     "data": {
      "image/png": "[encoded data removed]",
      "text/plain": [
       "<Figure size 900x900 with 30 Axes>"
      ]
     },
     "metadata": {
      "needs_background": "light"
     },
     "output_type": "display_data"
    }
   ],
   "source": [
    "pairdf = dfn[[\"Speed\", \"COG\", \"Gross_tonnage\", \"Breadth\", \"Length\"]].copy()\n",
    "x = sns.pairplot(pairdf, diag_kws={'bins': 10})\n",
    "x"
   ]
  },
  {
   "cell_type": "markdown",
   "metadata": {},
   "source": [
    "Speed and COG dont seem to correlate. Tonnage, breadth and length are all related. \n",
    "There is still THE BIG SHIP"
   ]
  },
  {
   "cell_type": "markdown",
   "metadata": {},
   "source": [
    "#### b) Make a new clean dataframe without outlier(s) (and include the most relevant attributes only, or limit to those in next tasks) "
   ]
  },
  {
   "cell_type": "code",
   "execution_count": 26,
   "metadata": {},
   "outputs": [],
   "source": [
    "from scipy import stats"
   ]
  },
  {
   "cell_type": "code",
   "execution_count": 27,
   "metadata": {},
   "outputs": [
    {
     "ename": "NameError",
     "evalue": "name 'np' is not defined",
     "output_type": "error",
     "traceback": [
      "\u001b[1;31m---------------------------------------------------------------------------\u001b[0m",
      "\u001b[1;31mNameError\u001b[0m                                 Traceback (most recent call last)",
      "\u001b[1;32m<ipython-input-27-2561d844371f>\u001b[0m in \u001b[0;36m<module>\u001b[1;34m\u001b[0m\n\u001b[0;32m      2\u001b[0m \u001b[1;33m\u001b[0m\u001b[0m\n\u001b[0;32m      3\u001b[0m \u001b[1;33m\u001b[0m\u001b[0m\n\u001b[1;32m----> 4\u001b[1;33m \u001b[0mnewdf\u001b[0m \u001b[1;33m=\u001b[0m \u001b[0mnewdf\u001b[0m\u001b[1;33m[\u001b[0m\u001b[1;33m(\u001b[0m\u001b[0mnp\u001b[0m\u001b[1;33m.\u001b[0m\u001b[0mabs\u001b[0m\u001b[1;33m(\u001b[0m\u001b[0mstats\u001b[0m\u001b[1;33m.\u001b[0m\u001b[0mzscore\u001b[0m\u001b[1;33m(\u001b[0m\u001b[0mnewdf\u001b[0m\u001b[1;33m)\u001b[0m\u001b[1;33m)\u001b[0m \u001b[1;33m<\u001b[0m \u001b[1;36m3\u001b[0m\u001b[1;33m)\u001b[0m\u001b[1;33m.\u001b[0m\u001b[0mall\u001b[0m\u001b[1;33m(\u001b[0m\u001b[0maxis\u001b[0m\u001b[1;33m=\u001b[0m\u001b[1;36m1\u001b[0m\u001b[1;33m)\u001b[0m\u001b[1;33m]\u001b[0m\u001b[1;33m\u001b[0m\u001b[1;33m\u001b[0m\u001b[0m\n\u001b[0m",
      "\u001b[1;31mNameError\u001b[0m: name 'np' is not defined"
     ]
    }
   ],
   "source": [
    "newdf = dfn[[\"Gross_tonnage\", \"Breadth\", \"Length\"]].copy()\n",
    "\n",
    "\n",
    "newdf = newdf[(np.abs(stats.zscore(newdf)) < 3).all(axis=1)]"
   ]
  },
  {
   "cell_type": "code",
   "execution_count": null,
   "metadata": {},
   "outputs": [],
   "source": [
    "x = sns.pairplot(newdf, diag_kws={'bins': 10})\n",
    "x"
   ]
  },
  {
   "cell_type": "markdown",
   "metadata": {},
   "source": [
    "### Correlation and heatmap"
   ]
  },
  {
   "cell_type": "markdown",
   "metadata": {},
   "source": [
    "#### c) What are Pearson's correlation, Spearman's rho and Kendall's tau? Calculate the correlation coefficient matrices. What kind of relationships there are between the attributes? Does the detected outlier affect the correlation? You can use heatmap to visualize the matrices and more easily see the strength of the relationship."
   ]
  },
  {
   "cell_type": "markdown",
   "metadata": {},
   "source": [
    "Pearson r correlation measures the degree of the relationship between linearly related variables.\n",
    "\n",
    "Spearman rank correlation is a non-parametric test that is used to measure the degree of association between two variables. \n",
    "\n",
    "Kendall rank correlation is a non-parametric test that measures the strength of dependence between two variables"
   ]
  },
  {
   "cell_type": "code",
   "execution_count": null,
   "metadata": {
    "scrolled": true
   },
   "outputs": [],
   "source": [
    "newdf.corr()"
   ]
  },
  {
   "cell_type": "markdown",
   "metadata": {},
   "source": [
    "Length doesnt correlate linearly with the others"
   ]
  },
  {
   "cell_type": "code",
   "execution_count": null,
   "metadata": {},
   "outputs": [],
   "source": [
    "\n",
    "newdf.corr(method=\"spearman\")"
   ]
  },
  {
   "cell_type": "markdown",
   "metadata": {},
   "source": [
    "Describe your findings here..."
   ]
  },
  {
   "cell_type": "code",
   "execution_count": null,
   "metadata": {},
   "outputs": [],
   "source": [
    "newdf.corr(method=\"kendall\")"
   ]
  },
  {
   "cell_type": "markdown",
   "metadata": {},
   "source": [
    "Explain your fidings here..."
   ]
  },
  {
   "cell_type": "markdown",
   "metadata": {},
   "source": [
    "## BONUS: Dimensionality reduction"
   ]
  },
  {
   "cell_type": "markdown",
   "metadata": {},
   "source": [
    "#### Explain what principal component analysis is. Do that with and without z-score standardization. Visualize the results with a scatter plot by projecting the data to the first two principal components. How much of the variation is explained with the two principal components?"
   ]
  },
  {
   "cell_type": "markdown",
   "metadata": {},
   "source": [
    "Explanation of the PCA here..."
   ]
  },
  {
   "cell_type": "code",
   "execution_count": null,
   "metadata": {
    "scrolled": true
   },
   "outputs": [],
   "source": [
    "# Script here\n"
   ]
  },
  {
   "cell_type": "markdown",
   "metadata": {},
   "source": [
    "Findings here..."
   ]
  }
 ],
 "metadata": {
  "kernelspec": {
   "display_name": "Python 3",
   "language": "python",
   "name": "python3"
  },
  "language_info": {
   "codemirror_mode": {
    "name": "ipython",
    "version": 3
   },
   "file_extension": ".py",
   "mimetype": "text/x-python",
   "name": "python",
   "nbconvert_exporter": "python",
   "pygments_lexer": "ipython3",
   "version": "3.8.3"
  },
  "toc": {
   "base_numbering": 1,
   "nav_menu": {
    "height": "180px",
    "width": "160px"
   },
   "number_sections": false,
   "sideBar": true,
   "skip_h1_title": true,
   "title_cell": "Table of Contents",
   "title_sidebar": "Contents",
   "toc_cell": false,
   "toc_position": {},
   "toc_section_display": true,
   "toc_window_display": true
  }
 },
 "nbformat": 4,
 "nbformat_minor": 2
}
