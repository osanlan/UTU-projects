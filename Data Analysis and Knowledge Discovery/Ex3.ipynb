{
 "cells": [
  {
   "cell_type": "markdown",
   "metadata": {},
   "source": [
    "Oskari Läntinen <br>\n",
    "student number 508244 <br>\n",
    "osanlan@utu.fi  <br>\n",
    "12, 04, 2020  <br>"
   ]
  },
  {
   "cell_type": "markdown",
   "metadata": {},
   "source": [
    "# Data Analysis and Knowledge Discovery: Exercise 3, Supervised learning"
   ]
  },
  {
   "cell_type": "markdown",
   "metadata": {},
   "source": [
    "This is the template for the third exercise. The idea of this exercise is to apply supervised learning to predict the ship type using certain attributes (speed, destination harbour...) and K nearest neighbors (kNN) classifier. The data is available in Moodle course page: shipdata_2020.xlsx. <br> \n",
    "\n",
    "General guidance for exercises is given in Moodle course page. <br>\n",
    "\n",
    " - answer all the questions below\n",
    " - write easily readable code, include explanations what your code does\n",
    " - make informative illustrations: include labels for x- and y-axes, legends and captions for your plots\n",
    " - do not change anything manually or outside the script in the data file\n",
    " - before saving the ipynb file (and possible printing) run: \"Restart & Run all\", to make sure you return a file that works as expected\n",
    " - name your file as DAKD2020_ex3_firstname_lastname.ipynb\n",
    " - +1 bonus point requires a correct solution and also thorough analysis. Discuss also how the results could be improved\n",
    " - if you encounter problems, Google first. If you can't find an answer to the problem, don't hesitate to ask in the Moodle discussion or directly: pekavir@utu.fi\n",
    " - Note! Don't leave it to the last moment! No feedback service during the weekend\n",
    " - The deadline is **Friday 4th of December 23:59**"
   ]
  },
  {
   "cell_type": "markdown",
   "metadata": {},
   "source": [
    "## Data import"
   ]
  },
  {
   "cell_type": "markdown",
   "metadata": {},
   "source": [
    "Gather *all* packages needed for this notebook here:"
   ]
  },
  {
   "cell_type": "code",
   "execution_count": 579,
   "metadata": {},
   "outputs": [],
   "source": [
    "import numpy as np\n",
    "import pandas as pd\n",
    "import matplotlib.pyplot as plt\n",
    "\n",
    "from scipy.stats import pearsonr\n",
    "from sklearn.preprocessing import StandardScaler\n",
    "from math import floor\n",
    "\n",
    "from sklearn.neighbors import KNeighborsClassifier\n",
    "from sklearn.metrics import confusion_matrix, plot_confusion_matrix\n",
    "from sklearn.model_selection import LeaveOneOut\n",
    "\n",
    "import random as rnd"
   ]
  },
  {
   "cell_type": "code",
   "execution_count": 580,
   "metadata": {},
   "outputs": [
    {
     "name": "stdout",
     "output_type": "stream",
     "text": [
      "        MMSI    Speed      COG Destination Ship_type  Gross_tonnage  Length  \\\n",
      "0  212209000  10.1377  64.3074      Hamina     Cargo           3416   94.91   \n",
      "1  212436000  13.5256  77.0755      Hamina    Tanker           6280  116.90   \n",
      "2  219082000   9.9416  74.6762      Hamina    Tanker           9980  141.20   \n",
      "3  219083000  11.6038  74.7529      Hamina    Tanker           9980  141.20   \n",
      "4  219426000  11.9203  56.3253      Hamina    Tanker           3219   99.90   \n",
      "\n",
      "   Breadth  \n",
      "0    15.34  \n",
      "1    18.00  \n",
      "2    21.90  \n",
      "3    21.60  \n",
      "4    15.00  \n"
     ]
    }
   ],
   "source": [
    "# Reading shipdata_2020 and print first 5 rows\n",
    "url = \"C:\\\\Users\\\\Oskari\\\\Google Drive (osanlan@utu.fi)\\\\School\\\\DAaKD\\\\shipdata_2020.xlsx\"\n",
    "shipdata_orig = pd.read_excel(url)\n",
    "print(shipdata_orig[:5])"
   ]
  },
  {
   "cell_type": "markdown",
   "metadata": {},
   "source": [
    "## Data preprocessing"
   ]
  },
  {
   "cell_type": "markdown",
   "metadata": {},
   "source": [
    " - First, find out how many different destinations there are in the data. Do you need to make any preprocessing? **1p**\n",
    " - Destination harbor is a categorical variable. It needs to be converted into numerical. Explain, why do you need to make this step? You can use get_dummies from pandas to implement onehot coding for categorical features **1p**\n",
    " - Plot Gross tonnage versus the ship Length. Use different colors for different ship types. According to the plot, there is one clear outlier. Find the correct value from marinetraffic.com, and make the correction **1p**\n",
    " - It is good to exploit domain knowledge and make some reasonable transformation to the feature values to improve the expected results and/or to avoid redundancy. Find out what gross tonnage means. Make some transformation to Length values to acquire a linear relationship between the transformed length and Gross tonnage values **1p**\n",
    " - The numerical variables have quite different ranges. To ensure that all variables can have the same importance on the model, perform Z-score standardization. Perform it for speed, transformed length, and breadth **1p**"
   ]
  },
  {
   "cell_type": "markdown",
   "metadata": {},
   "source": [
    "Sillamäe is counted twice in \"Destination\" as \"Sillamäe\" and \"Sillamae\". So change \"Sillamäe\" to \"Sillamae\"."
   ]
  },
  {
   "cell_type": "code",
   "execution_count": 581,
   "metadata": {},
   "outputs": [],
   "source": [
    "shipdata = shipdata_orig.replace({\"Destination\":\"Sillamäe\"}, \"Sillamae\")"
   ]
  },
  {
   "cell_type": "markdown",
   "metadata": {},
   "source": [
    "Converting Destination to numerical variable:\n",
    "- Many machine learning algorithms require numerical data\n",
    "- Categorical (string) data doesn't mean anything to the algorithm \n",
    "- One hot so that category 4 isn't more/better that category 2"
   ]
  },
  {
   "cell_type": "code",
   "execution_count": 582,
   "metadata": {
    "scrolled": true
   },
   "outputs": [],
   "source": [
    "shipdata = pd.get_dummies(shipdata, columns=[\"Destination\"], prefix=[\"Dest\"])"
   ]
  },
  {
   "cell_type": "code",
   "execution_count": 583,
   "metadata": {},
   "outputs": [
    {
     "data": {
      "text/plain": [
       "Text(0.5, 1.0, 'Gross tonnage vs Length')"
      ]
     },
     "execution_count": 583,
     "metadata": {},
     "output_type": "execute_result"
    },
    {
     "data": {
      "image/png": "[encoded data removed]",
      "text/plain": [
       "<Figure size 432x288 with 1 Axes>"
      ]
     },
     "metadata": {
      "needs_background": "light"
     },
     "output_type": "display_data"
    }
   ],
   "source": [
    "fig, ax  = plt.subplots()\n",
    "\n",
    "ax.plot(shipdata[shipdata[\"Ship_type\"]==\"Cargo\"][\"Gross_tonnage\"], shipdata[shipdata[\"Ship_type\"]==\"Cargo\"][\"Length\"],marker=\"o\", linestyle=\"\")\n",
    "ax.plot(shipdata[shipdata[\"Ship_type\"]==\"Tanker\"][\"Gross_tonnage\"], shipdata[shipdata[\"Ship_type\"]==\"Tanker\"][\"Length\"], marker=\"o\", linestyle=\"\")\n",
    "ax.plot(shipdata[shipdata[\"Ship_type\"]==\"Tug\"][\"Gross_tonnage\"], shipdata[shipdata[\"Ship_type\"]==\"Tug\"][\"Length\"], marker=\"o\", linestyle=\"\")\n",
    "ax.set_xlabel(\"Gross_tonnage\")\n",
    "ax.set_ylabel(\"Length\")\n",
    "ax.legend(shipdata[\"Ship_type\"].unique())\n",
    "ax.set_title(\"Gross tonnage vs Length\")"
   ]
  },
  {
   "cell_type": "code",
   "execution_count": 584,
   "metadata": {},
   "outputs": [
    {
     "name": "stdout",
     "output_type": "stream",
     "text": [
      "MMSI is 230212000\n",
      "Length is 46.92\n",
      "Gross tonnage is 30026\n",
      "Gross tonnage should be 326\n"
     ]
    }
   ],
   "source": [
    "# Finding the outlier\n",
    "# Tanker and length below 75m \n",
    "temp = shipdata.loc[shipdata[\"Ship_type\"]==\"Tanker\"].loc[shipdata[\"Length\"] < 75]\n",
    "print(\"MMSI is\", temp.iloc[0][\"MMSI\"])\n",
    "print(\"Length is\", temp.iloc[0][\"Length\"])\n",
    "print(\"Gross tonnage is\", temp.iloc[0][\"Gross_tonnage\"])\n",
    "print(\"Gross tonnage should be 326\")\n",
    "ind = shipdata[shipdata[\"MMSI\"] == 230212000].index[0]\n",
    "shipdata.at[ind, \"Gross_tonnage\"] = 326 \n"
   ]
  },
  {
   "cell_type": "code",
   "execution_count": 585,
   "metadata": {},
   "outputs": [
    {
     "data": {
      "text/plain": [
       "Text(0.5, 1.0, 'Gross tonnage vs Length')"
      ]
     },
     "execution_count": 585,
     "metadata": {},
     "output_type": "execute_result"
    },
    {
     "data": {
      "image/png": "[encoded data removed]",
      "text/plain": [
       "<Figure size 432x288 with 1 Axes>"
      ]
     },
     "metadata": {
      "needs_background": "light"
     },
     "output_type": "display_data"
    }
   ],
   "source": [
    "fig, ax  = plt.subplots()\n",
    "\n",
    "ax.plot(shipdata[shipdata[\"Ship_type\"]==\"Cargo\"][\"Gross_tonnage\"], shipdata[shipdata[\"Ship_type\"]==\"Cargo\"][\"Length\"],marker=\"o\", linestyle=\"\")\n",
    "ax.plot(shipdata[shipdata[\"Ship_type\"]==\"Tanker\"][\"Gross_tonnage\"], shipdata[shipdata[\"Ship_type\"]==\"Tanker\"][\"Length\"], marker=\"o\", linestyle=\"\")\n",
    "ax.plot(shipdata[shipdata[\"Ship_type\"]==\"Tug\"][\"Gross_tonnage\"], shipdata[shipdata[\"Ship_type\"]==\"Tug\"][\"Length\"], marker=\"o\", linestyle=\"\")\n",
    "ax.set_xlabel(\"Gross_tonnage\")\n",
    "ax.set_ylabel(\"Length\")\n",
    "ax.legend(shipdata[\"Ship_type\"].unique())\n",
    "ax.set_title(\"Gross tonnage vs Length\")"
   ]
  },
  {
   "cell_type": "markdown",
   "metadata": {},
   "source": [
    " - It is good to exploit domain knowledge and make some reasonable transformation to the feature values to improve the expected results and/or to avoid redundancy. Find out what gross tonnage means. Make some transformation to Length values to acquire a linear relationship between the transformed length and Gross tonnage values **1p**"
   ]
  },
  {
   "cell_type": "markdown",
   "metadata": {},
   "source": [
    "Gross tonnage (GT, G.T. or gt) is a nonlinear measure of a ship's overall internal volume. \n",
    "GT = V * K (V = volume, K = multiplier based on the ship volume)\n",
    "Length cubed gives us volume which seems to have a linear relationship with gross tonnage"
   ]
  },
  {
   "cell_type": "code",
   "execution_count": 586,
   "metadata": {},
   "outputs": [
    {
     "name": "stdout",
     "output_type": "stream",
     "text": [
      "Pearsons correlation: 0.909\n",
      "Pearsons correlation: 0.993\n"
     ]
    }
   ],
   "source": [
    "corr, _ = pearsonr(shipdata[\"Gross_tonnage\"], shipdata[\"Length\"])\n",
    "print('Pearsons correlation: %.3f' % corr)\n",
    "corr, _ = pearsonr(shipdata[\"Gross_tonnage\"], shipdata[\"Length\"]**3)\n",
    "print('Pearsons correlation: %.3f' % corr)\n"
   ]
  },
  {
   "cell_type": "code",
   "execution_count": 587,
   "metadata": {},
   "outputs": [],
   "source": [
    "shipdata[\"Length\"] = shipdata[\"Length\"]**3\n"
   ]
  },
  {
   "cell_type": "code",
   "execution_count": 588,
   "metadata": {},
   "outputs": [
    {
     "data": {
      "text/plain": [
       "Text(0.5, 1.0, 'Gross tonnage vs Length^3')"
      ]
     },
     "execution_count": 588,
     "metadata": {},
     "output_type": "execute_result"
    },
    {
     "data": {
      "image/png": "[encoded data removed]",
      "text/plain": [
       "<Figure size 432x288 with 1 Axes>"
      ]
     },
     "metadata": {
      "needs_background": "light"
     },
     "output_type": "display_data"
    }
   ],
   "source": [
    "fig, ax  = plt.subplots()\n",
    "\n",
    "ax.plot(shipdata[shipdata[\"Ship_type\"]==\"Cargo\"][\"Gross_tonnage\"], shipdata[shipdata[\"Ship_type\"]==\"Cargo\"][\"Length\"],marker=\"o\", linestyle=\"\")\n",
    "ax.plot(shipdata[shipdata[\"Ship_type\"]==\"Tanker\"][\"Gross_tonnage\"], shipdata[shipdata[\"Ship_type\"]==\"Tanker\"][\"Length\"], marker=\"o\", linestyle=\"\")\n",
    "ax.plot(shipdata[shipdata[\"Ship_type\"]==\"Tug\"][\"Gross_tonnage\"], shipdata[shipdata[\"Ship_type\"]==\"Tug\"][\"Length\"], marker=\"o\", linestyle=\"\")\n",
    "ax.set_xlabel(\"Gross_tonnage\")\n",
    "ax.set_ylabel(\"Length^3\")\n",
    "ax.legend(shipdata[\"Ship_type\"].unique())\n",
    "ax.set_title(\"Gross tonnage vs Length^3\")"
   ]
  },
  {
   "cell_type": "markdown",
   "metadata": {},
   "source": [
    " - The numerical variables have quite different ranges. To ensure that all variables can have the same importance on the model, perform Z-score standardization. Perform it for speed, transformed length, and breadth **1p**"
   ]
  },
  {
   "cell_type": "code",
   "execution_count": 589,
   "metadata": {},
   "outputs": [
    {
     "data": {
      "text/html": [
       "<div>\n",
       "<style scoped>\n",
       "    .dataframe tbody tr th:only-of-type {\n",
       "        vertical-align: middle;\n",
       "    }\n",
       "\n",
       "    .dataframe tbody tr th {\n",
       "        vertical-align: top;\n",
       "    }\n",
       "\n",
       "    .dataframe thead th {\n",
       "        text-align: right;\n",
       "    }\n",
       "</style>\n",
       "<table border=\"1\" class=\"dataframe\">\n",
       "  <thead>\n",
       "    <tr style=\"text-align: right;\">\n",
       "      <th></th>\n",
       "      <th>MMSI</th>\n",
       "      <th>Speed</th>\n",
       "      <th>COG</th>\n",
       "      <th>Ship_type</th>\n",
       "      <th>Gross_tonnage</th>\n",
       "      <th>Length</th>\n",
       "      <th>Breadth</th>\n",
       "      <th>Dest_Hamina</th>\n",
       "      <th>Dest_Helsinki</th>\n",
       "      <th>Dest_Kotka</th>\n",
       "      <th>...</th>\n",
       "      <th>Dest_Paldiski</th>\n",
       "      <th>Dest_Porvoo</th>\n",
       "      <th>Dest_Primorsk</th>\n",
       "      <th>Dest_Sillamae</th>\n",
       "      <th>Dest_Tallinn</th>\n",
       "      <th>Dest_Ust-Luga</th>\n",
       "      <th>Dest_Valko-Loviisa</th>\n",
       "      <th>Dest_Viipuri</th>\n",
       "      <th>Dest_Vuosaari</th>\n",
       "      <th>Dest_Vysotsk</th>\n",
       "    </tr>\n",
       "  </thead>\n",
       "  <tbody>\n",
       "    <tr>\n",
       "      <th>0</th>\n",
       "      <td>212209000</td>\n",
       "      <td>-0.161299</td>\n",
       "      <td>64.3074</td>\n",
       "      <td>Cargo</td>\n",
       "      <td>3416</td>\n",
       "      <td>-0.569303</td>\n",
       "      <td>-0.489104</td>\n",
       "      <td>1</td>\n",
       "      <td>0</td>\n",
       "      <td>0</td>\n",
       "      <td>...</td>\n",
       "      <td>0</td>\n",
       "      <td>0</td>\n",
       "      <td>0</td>\n",
       "      <td>0</td>\n",
       "      <td>0</td>\n",
       "      <td>0</td>\n",
       "      <td>0</td>\n",
       "      <td>0</td>\n",
       "      <td>0</td>\n",
       "      <td>0</td>\n",
       "    </tr>\n",
       "    <tr>\n",
       "      <th>1</th>\n",
       "      <td>212436000</td>\n",
       "      <td>1.580209</td>\n",
       "      <td>77.0755</td>\n",
       "      <td>Tanker</td>\n",
       "      <td>6280</td>\n",
       "      <td>-0.405892</td>\n",
       "      <td>-0.220696</td>\n",
       "      <td>1</td>\n",
       "      <td>0</td>\n",
       "      <td>0</td>\n",
       "      <td>...</td>\n",
       "      <td>0</td>\n",
       "      <td>0</td>\n",
       "      <td>0</td>\n",
       "      <td>0</td>\n",
       "      <td>0</td>\n",
       "      <td>0</td>\n",
       "      <td>0</td>\n",
       "      <td>0</td>\n",
       "      <td>0</td>\n",
       "      <td>0</td>\n",
       "    </tr>\n",
       "    <tr>\n",
       "      <th>2</th>\n",
       "      <td>219082000</td>\n",
       "      <td>-0.262102</td>\n",
       "      <td>74.6762</td>\n",
       "      <td>Tanker</td>\n",
       "      <td>9980</td>\n",
       "      <td>-0.137933</td>\n",
       "      <td>0.172834</td>\n",
       "      <td>1</td>\n",
       "      <td>0</td>\n",
       "      <td>0</td>\n",
       "      <td>...</td>\n",
       "      <td>0</td>\n",
       "      <td>0</td>\n",
       "      <td>0</td>\n",
       "      <td>0</td>\n",
       "      <td>0</td>\n",
       "      <td>0</td>\n",
       "      <td>0</td>\n",
       "      <td>0</td>\n",
       "      <td>0</td>\n",
       "      <td>0</td>\n",
       "    </tr>\n",
       "    <tr>\n",
       "      <th>3</th>\n",
       "      <td>219083000</td>\n",
       "      <td>0.592331</td>\n",
       "      <td>74.7529</td>\n",
       "      <td>Tanker</td>\n",
       "      <td>9980</td>\n",
       "      <td>-0.137933</td>\n",
       "      <td>0.142563</td>\n",
       "      <td>1</td>\n",
       "      <td>0</td>\n",
       "      <td>0</td>\n",
       "      <td>...</td>\n",
       "      <td>0</td>\n",
       "      <td>0</td>\n",
       "      <td>0</td>\n",
       "      <td>0</td>\n",
       "      <td>0</td>\n",
       "      <td>0</td>\n",
       "      <td>0</td>\n",
       "      <td>0</td>\n",
       "      <td>0</td>\n",
       "      <td>0</td>\n",
       "    </tr>\n",
       "    <tr>\n",
       "      <th>4</th>\n",
       "      <td>219426000</td>\n",
       "      <td>0.755024</td>\n",
       "      <td>56.3253</td>\n",
       "      <td>Tanker</td>\n",
       "      <td>3219</td>\n",
       "      <td>-0.538041</td>\n",
       "      <td>-0.523412</td>\n",
       "      <td>1</td>\n",
       "      <td>0</td>\n",
       "      <td>0</td>\n",
       "      <td>...</td>\n",
       "      <td>0</td>\n",
       "      <td>0</td>\n",
       "      <td>0</td>\n",
       "      <td>0</td>\n",
       "      <td>0</td>\n",
       "      <td>0</td>\n",
       "      <td>0</td>\n",
       "      <td>0</td>\n",
       "      <td>0</td>\n",
       "      <td>0</td>\n",
       "    </tr>\n",
       "    <tr>\n",
       "      <th>...</th>\n",
       "      <td>...</td>\n",
       "      <td>...</td>\n",
       "      <td>...</td>\n",
       "      <td>...</td>\n",
       "      <td>...</td>\n",
       "      <td>...</td>\n",
       "      <td>...</td>\n",
       "      <td>...</td>\n",
       "      <td>...</td>\n",
       "      <td>...</td>\n",
       "      <td>...</td>\n",
       "      <td>...</td>\n",
       "      <td>...</td>\n",
       "      <td>...</td>\n",
       "      <td>...</td>\n",
       "      <td>...</td>\n",
       "      <td>...</td>\n",
       "      <td>...</td>\n",
       "      <td>...</td>\n",
       "      <td>...</td>\n",
       "      <td>...</td>\n",
       "    </tr>\n",
       "    <tr>\n",
       "      <th>129</th>\n",
       "      <td>273374820</td>\n",
       "      <td>-0.211726</td>\n",
       "      <td>74.6253</td>\n",
       "      <td>Tanker</td>\n",
       "      <td>4979</td>\n",
       "      <td>-0.154887</td>\n",
       "      <td>-0.351873</td>\n",
       "      <td>0</td>\n",
       "      <td>0</td>\n",
       "      <td>0</td>\n",
       "      <td>...</td>\n",
       "      <td>0</td>\n",
       "      <td>0</td>\n",
       "      <td>0</td>\n",
       "      <td>0</td>\n",
       "      <td>0</td>\n",
       "      <td>0</td>\n",
       "      <td>0</td>\n",
       "      <td>0</td>\n",
       "      <td>0</td>\n",
       "      <td>1</td>\n",
       "    </tr>\n",
       "    <tr>\n",
       "      <th>130</th>\n",
       "      <td>273385070</td>\n",
       "      <td>-0.565847</td>\n",
       "      <td>74.5454</td>\n",
       "      <td>Tanker</td>\n",
       "      <td>4979</td>\n",
       "      <td>-0.154887</td>\n",
       "      <td>-0.327656</td>\n",
       "      <td>0</td>\n",
       "      <td>0</td>\n",
       "      <td>0</td>\n",
       "      <td>...</td>\n",
       "      <td>0</td>\n",
       "      <td>0</td>\n",
       "      <td>0</td>\n",
       "      <td>0</td>\n",
       "      <td>0</td>\n",
       "      <td>0</td>\n",
       "      <td>0</td>\n",
       "      <td>0</td>\n",
       "      <td>0</td>\n",
       "      <td>1</td>\n",
       "    </tr>\n",
       "    <tr>\n",
       "      <th>131</th>\n",
       "      <td>273388150</td>\n",
       "      <td>-0.351956</td>\n",
       "      <td>68.7159</td>\n",
       "      <td>Tanker</td>\n",
       "      <td>5075</td>\n",
       "      <td>-0.142528</td>\n",
       "      <td>-0.335728</td>\n",
       "      <td>0</td>\n",
       "      <td>0</td>\n",
       "      <td>0</td>\n",
       "      <td>...</td>\n",
       "      <td>0</td>\n",
       "      <td>0</td>\n",
       "      <td>0</td>\n",
       "      <td>0</td>\n",
       "      <td>0</td>\n",
       "      <td>0</td>\n",
       "      <td>0</td>\n",
       "      <td>0</td>\n",
       "      <td>0</td>\n",
       "      <td>1</td>\n",
       "    </tr>\n",
       "    <tr>\n",
       "      <th>132</th>\n",
       "      <td>636092755</td>\n",
       "      <td>0.361837</td>\n",
       "      <td>73.7013</td>\n",
       "      <td>Tanker</td>\n",
       "      <td>23240</td>\n",
       "      <td>0.591202</td>\n",
       "      <td>0.724786</td>\n",
       "      <td>0</td>\n",
       "      <td>0</td>\n",
       "      <td>0</td>\n",
       "      <td>...</td>\n",
       "      <td>0</td>\n",
       "      <td>0</td>\n",
       "      <td>0</td>\n",
       "      <td>0</td>\n",
       "      <td>0</td>\n",
       "      <td>0</td>\n",
       "      <td>0</td>\n",
       "      <td>0</td>\n",
       "      <td>0</td>\n",
       "      <td>1</td>\n",
       "    </tr>\n",
       "    <tr>\n",
       "      <th>133</th>\n",
       "      <td>357100000</td>\n",
       "      <td>0.420900</td>\n",
       "      <td>59.3888</td>\n",
       "      <td>Cargo</td>\n",
       "      <td>43717</td>\n",
       "      <td>1.886661</td>\n",
       "      <td>1.223258</td>\n",
       "      <td>0</td>\n",
       "      <td>0</td>\n",
       "      <td>0</td>\n",
       "      <td>...</td>\n",
       "      <td>0</td>\n",
       "      <td>0</td>\n",
       "      <td>0</td>\n",
       "      <td>0</td>\n",
       "      <td>0</td>\n",
       "      <td>0</td>\n",
       "      <td>0</td>\n",
       "      <td>0</td>\n",
       "      <td>0</td>\n",
       "      <td>1</td>\n",
       "    </tr>\n",
       "  </tbody>\n",
       "</table>\n",
       "<p>134 rows × 23 columns</p>\n",
       "</div>"
      ],
      "text/plain": [
       "          MMSI     Speed      COG Ship_type  Gross_tonnage    Length  \\\n",
       "0    212209000 -0.161299  64.3074     Cargo           3416 -0.569303   \n",
       "1    212436000  1.580209  77.0755    Tanker           6280 -0.405892   \n",
       "2    219082000 -0.262102  74.6762    Tanker           9980 -0.137933   \n",
       "3    219083000  0.592331  74.7529    Tanker           9980 -0.137933   \n",
       "4    219426000  0.755024  56.3253    Tanker           3219 -0.538041   \n",
       "..         ...       ...      ...       ...            ...       ...   \n",
       "129  273374820 -0.211726  74.6253    Tanker           4979 -0.154887   \n",
       "130  273385070 -0.565847  74.5454    Tanker           4979 -0.154887   \n",
       "131  273388150 -0.351956  68.7159    Tanker           5075 -0.142528   \n",
       "132  636092755  0.361837  73.7013    Tanker          23240  0.591202   \n",
       "133  357100000  0.420900  59.3888     Cargo          43717  1.886661   \n",
       "\n",
       "      Breadth  Dest_Hamina  Dest_Helsinki  Dest_Kotka  ...  Dest_Paldiski  \\\n",
       "0   -0.489104            1              0           0  ...              0   \n",
       "1   -0.220696            1              0           0  ...              0   \n",
       "2    0.172834            1              0           0  ...              0   \n",
       "3    0.142563            1              0           0  ...              0   \n",
       "4   -0.523412            1              0           0  ...              0   \n",
       "..        ...          ...            ...         ...  ...            ...   \n",
       "129 -0.351873            0              0           0  ...              0   \n",
       "130 -0.327656            0              0           0  ...              0   \n",
       "131 -0.335728            0              0           0  ...              0   \n",
       "132  0.724786            0              0           0  ...              0   \n",
       "133  1.223258            0              0           0  ...              0   \n",
       "\n",
       "     Dest_Porvoo  Dest_Primorsk  Dest_Sillamae  Dest_Tallinn  Dest_Ust-Luga  \\\n",
       "0              0              0              0             0              0   \n",
       "1              0              0              0             0              0   \n",
       "2              0              0              0             0              0   \n",
       "3              0              0              0             0              0   \n",
       "4              0              0              0             0              0   \n",
       "..           ...            ...            ...           ...            ...   \n",
       "129            0              0              0             0              0   \n",
       "130            0              0              0             0              0   \n",
       "131            0              0              0             0              0   \n",
       "132            0              0              0             0              0   \n",
       "133            0              0              0             0              0   \n",
       "\n",
       "     Dest_Valko-Loviisa  Dest_Viipuri  Dest_Vuosaari  Dest_Vysotsk  \n",
       "0                     0             0              0             0  \n",
       "1                     0             0              0             0  \n",
       "2                     0             0              0             0  \n",
       "3                     0             0              0             0  \n",
       "4                     0             0              0             0  \n",
       "..                  ...           ...            ...           ...  \n",
       "129                   0             0              0             1  \n",
       "130                   0             0              0             1  \n",
       "131                   0             0              0             1  \n",
       "132                   0             0              0             1  \n",
       "133                   0             0              0             1  \n",
       "\n",
       "[134 rows x 23 columns]"
      ]
     },
     "execution_count": 589,
     "metadata": {},
     "output_type": "execute_result"
    }
   ],
   "source": [
    "std_scaler = StandardScaler() # Initialise scaler\n",
    "to_scale = shipdata[[\"Speed\",\"Length\",\"Breadth\"]] # Select columns to standardize\n",
    "df_std = pd.DataFrame(std_scaler.fit_transform(to_scale)) # Standardization\n",
    "shipdata[\"Speed\"] = df_std[0] # Set standardized columns back to original data set\n",
    "shipdata[\"Length\"] = df_std[1]\n",
    "shipdata[\"Breadth\"] = df_std[2]\n",
    "shipdata\n"
   ]
  },
  {
   "cell_type": "markdown",
   "metadata": {},
   "source": [
    "## Classification accuracy with random training and test sets"
   ]
  },
  {
   "cell_type": "markdown",
   "metadata": {},
   "source": [
    "Predict the **ship type** using **speed, destination, transformed length, and breadth** as features. Find an estimation for the classification accuracy (number of correctly classified ships to the total number of ships) using *random training and test sets*. <br>\n",
    " - Produce training and test data **1p**\n",
    "     - Gather the normalized features and one-hot-coded destination columns as array __X__ (input variables), and the ship type as array **y** (output variable)     \n",
    "     - Divide the data randomly into training (20%) and test (80%) sets\n",
    "     - Do you need to use stratification? Explain your decision\n",
    " - Train the model and test its performance **1p**\n",
    "     - Use kNN classifier with k=3\n",
    "     - Print out the confusion matrix. How does the model perform with different ship types?\n",
    "     - What is the (total) classification accuracy?\n",
    " - Repeat the calculation 1000 times with different split of training/test data, and make a histogram of the results for classification accuracy **1p**\n",
    " - Discuss your results **1p**"
   ]
  },
  {
   "cell_type": "markdown",
   "metadata": {},
   "source": [
    "Stratification should be used since the smallest category is smaller than the 20% training group"
   ]
  },
  {
   "cell_type": "code",
   "execution_count": 590,
   "metadata": {},
   "outputs": [],
   "source": [
    "X = shipdata.drop(columns=[\"MMSI\", \"COG\", \"Gross_tonnage\", \"Ship_type\"])\n",
    "y = shipdata[\"Ship_type\"]\n",
    "\n",
    "# Stratify and split into test and train groups\n",
    "X_train, X_test, y_train, y_test = model_s.train_test_split(X, y, random_state=1, test_size=0.8, stratify=shipdata[\"Ship_type\"])\n"
   ]
  },
  {
   "cell_type": "code",
   "execution_count": 591,
   "metadata": {},
   "outputs": [
    {
     "data": {
      "text/plain": [
       "Text(0.5, 1.0, 'Confusion matrix')"
      ]
     },
     "execution_count": 591,
     "metadata": {},
     "output_type": "execute_result"
    },
    {
     "data": {
      "image/png": "[encoded data removed]",
      "text/plain": [
       "<Figure size 432x288 with 2 Axes>"
      ]
     },
     "metadata": {
      "needs_background": "light"
     },
     "output_type": "display_data"
    }
   ],
   "source": [
    "neigh = KNeighborsClassifier(n_neighbors=3)\n",
    "neigh.fit(X_train,y_train)\n",
    "\n",
    "a = plot_confusion_matrix(neigh, X_test, y_test)\n",
    "a.ax_.set_title(\"Confusion matrix\")"
   ]
  },
  {
   "cell_type": "markdown",
   "metadata": {},
   "source": [
    "How does the model fare with different ship types?\n",
    "\n",
    "Cargos and tankers get mixed up but tugs can be identified"
   ]
  },
  {
   "cell_type": "code",
   "execution_count": 592,
   "metadata": {},
   "outputs": [
    {
     "name": "stdout",
     "output_type": "stream",
     "text": [
      "Classification accuracy is 0.7037037037037037\n"
     ]
    }
   ],
   "source": [
    "print( \"Classification accuracy is\", neigh.score(X_test, y_test))"
   ]
  },
  {
   "cell_type": "code",
   "execution_count": 593,
   "metadata": {},
   "outputs": [],
   "source": [
    "rnd.seed()\n",
    "scores = []\n",
    "for i in range(1000):\n",
    "    a = rnd.randrange(5,130,5)\n",
    "    X_train, X_test, y_train, y_test = train_test_split(X, y, random_state=1, test_size=a, stratify=shipdata[\"Ship_type\"])\n",
    "    \n",
    "    score = neigh.score(X_test, y_test)\n",
    "    scores.append(score)"
   ]
  },
  {
   "cell_type": "code",
   "execution_count": 594,
   "metadata": {},
   "outputs": [
    {
     "data": {
      "image/png": "[encoded data removed]",
      "text/plain": [
       "<Figure size 432x288 with 1 Axes>"
      ]
     },
     "metadata": {
      "needs_background": "light"
     },
     "output_type": "display_data"
    }
   ],
   "source": [
    "plt.hist(scores)\n",
    "plt.title(\"Accuracy scores over 1000 repeats\")\n",
    "plt.xlabel(\"Accuracy score\")\n",
    "plt.ylabel(\"Frequency\")\n",
    "plt.show()"
   ]
  },
  {
   "cell_type": "markdown",
   "metadata": {},
   "source": [
    "Most scores in the 0.7-0.8 range as expected by the confusion matrix. Couple in the high 0.95+, completely correct predictions maybe? Or favourable splits?"
   ]
  },
  {
   "cell_type": "markdown",
   "metadata": {},
   "source": [
    "\n",
    "\n",
    "## Classification accuracy using leave-one-out cross validation"
   ]
  },
  {
   "cell_type": "markdown",
   "metadata": {},
   "source": [
    "Again, predict the **ship type** using **speed, destination, transformed length, and breadth** of the ship as features. Find an estimation for the classification accuracy using *leave-one-out cross validation (LOO CV)*. <br>\n",
    "\n",
    " - Use leave-one-out cross validation to estimate the model performance **1p**\n",
    "     - Use kNN classifier with k=3\n",
    "     - What is the classification accuracy? Compare the result with the one you got in the previous task\n",
    " - Which method gives better evaluation of the performance of the classifier with this data set? Explain your choice **1p**"
   ]
  },
  {
   "cell_type": "code",
   "execution_count": 595,
   "metadata": {},
   "outputs": [
    {
     "name": "stdout",
     "output_type": "stream",
     "text": [
      "Classification accuracy is 0.8283582089552238\n"
     ]
    }
   ],
   "source": [
    "X = shipdata.drop(columns=[\"MMSI\", \"COG\", \"Gross_tonnage\", \"Ship_type\"])\n",
    "y = shipdata[\"Ship_type\"]\n",
    "\n",
    "neigh = KNeighborsClassifier(n_neighbors=3)\n",
    "neigh.fit(X_train,y_train)\n",
    "\n",
    "loo = model_s.LeaveOneOut()\n",
    "loo.get_n_splits(X)\n",
    "\n",
    "scores = []\n",
    "\n",
    "for train_index, test_index in loo.split(X):\n",
    "    X_train, X_test = X.iloc[train_index], X.iloc[test_index]\n",
    "    y_train, y_test = y[train_index], y[test_index]\n",
    "    scores.append(neigh.score(X_test, y_test))\n",
    "print( \"Classification accuracy is\", np.mean(scores))"
   ]
  },
  {
   "cell_type": "markdown",
   "metadata": {},
   "source": [
    "LeaveOneOut seems to be a little bit better than random splits. Performance is slower though."
   ]
  },
  {
   "cell_type": "markdown",
   "metadata": {},
   "source": [
    "## Model selection with leave-one-out cross validation"
   ]
  },
  {
   "cell_type": "markdown",
   "metadata": {},
   "source": [
    "- Select the best model (kNN with selection of k) using leave-one-out cross validation **2p**\n",
    "    - Repeat the model performance estimation with values k=1...30\n",
    "    - Which value of k produces the best classification accuracy?\n",
    "    - If the number of k is still increased, what is the limit that the classification accuracy approaches? Why?\n",
    "- Can you say something about the performance of this *selected* model with new, unseen data? Explain, how you could you estimate the performance of this selected model. **1p**"
   ]
  },
  {
   "cell_type": "code",
   "execution_count": 596,
   "metadata": {},
   "outputs": [],
   "source": [
    "X = shipdata.drop(columns=[\"MMSI\", \"COG\", \"Gross_tonnage\", \"Ship_type\"])\n",
    "y = shipdata[\"Ship_type\"]\n",
    "\n",
    "loo = model_s.LeaveOneOut()\n",
    "loo.get_n_splits(X)\n",
    "scores = []\n",
    "score_avg = []\n",
    "for k in range(1,31):\n",
    "    neigh = KNeighborsClassifier(n_neighbors=k)\n",
    "    \n",
    "    for train_index, test_index in loo.split(X):\n",
    "        X_train, X_test = X.iloc[train_index], X.iloc[test_index]\n",
    "        y_train, y_test = y[train_index], y[test_index]\n",
    "        \n",
    "        neigh.fit(X_train,y_train)\n",
    "        scores.append(neigh.score(X_test, y_test))    \n",
    "    score_avg.append(np.mean(scores))"
   ]
  },
  {
   "cell_type": "code",
   "execution_count": 597,
   "metadata": {},
   "outputs": [
    {
     "name": "stdout",
     "output_type": "stream",
     "text": [
      "Best score is 0.744136460554371 at k = 6\n"
     ]
    }
   ],
   "source": [
    "print(\"Best score is\", max(score_avg), \"at k =\", score_avg.index(max(score_avg)))"
   ]
  },
  {
   "cell_type": "code",
   "execution_count": 598,
   "metadata": {},
   "outputs": [
    {
     "name": "stdout",
     "output_type": "stream",
     "text": [
      "0.7279730380356283\n",
      "0.7273787313432836\n",
      "0.7261420171867933\n",
      "0.7243195785776997\n",
      "0.7226012793176972\n",
      "0.7205638474295191\n",
      "0.7172246873739411\n",
      "0.7140612725844462\n",
      "0.7097206276310754\n",
      "0.7044776119402985\n"
     ]
    }
   ],
   "source": [
    "for k in range(30,130,10):   \n",
    "    neigh = KNeighborsClassifier(n_neighbors=k)\n",
    "    \n",
    "    for train_index, test_index in loo.split(X):\n",
    "        X_train, X_test = X.iloc[train_index], X.iloc[test_index]\n",
    "        y_train, y_test = y[train_index], y[test_index]\n",
    "        \n",
    "        neigh.fit(X_train,y_train)\n",
    "        scores.append(neigh.score(X_test, y_test))\n",
    "    print(np.mean(scores))"
   ]
  },
  {
   "cell_type": "markdown",
   "metadata": {},
   "source": [
    "Increasing k further makes accuracy drop further. Increasing k increases split size all the way up to whole data set"
   ]
  },
  {
   "cell_type": "markdown",
   "metadata": {},
   "source": [
    "## Testing with training data (this should not be used!)"
   ]
  },
  {
   "cell_type": "markdown",
   "metadata": {},
   "source": [
    "- Repeat the previous task but use the whole data for training **2p**\n",
    "    - Plot the resulting classification accuracy versus k=1...30. Include the values from the previous task in the same figure\n",
    "    - Comment your result. Why shouldn't you test with training data?"
   ]
  },
  {
   "cell_type": "code",
   "execution_count": 599,
   "metadata": {},
   "outputs": [
    {
     "name": "stdout",
     "output_type": "stream",
     "text": [
      "[1.0, 0.9291044776119403, 0.9104477611940298, 0.8955223880597015, 0.8776119402985074, 0.8694029850746269, 0.8560767590618337, 0.8498134328358209, 0.8432835820895522, 0.8365671641791045, 0.830393487109905, 0.8252487562189055, 0.8203214695752009, 0.8160980810234542, 0.8114427860696517, 0.8083022388059702, 0.8046532045654082, 0.8018242122719734, 0.7985074626865671, 0.7955223880597015, 0.7924662402274343, 0.7893487109905021, 0.7868267358857884, 0.7845149253731343, 0.7823880597014925, 0.7807118254879449, 0.7794361525704809, 0.7779850746268657, 0.7766340710241894, 0.7751243781094528]\n"
     ]
    }
   ],
   "source": [
    "X = shipdata.drop(columns=[\"MMSI\", \"COG\", \"Gross_tonnage\", \"Ship_type\"])\n",
    "y = shipdata[\"Ship_type\"]\n",
    "\n",
    "loo = model_s.LeaveOneOut()\n",
    "loo.get_n_splits(X)\n",
    "score2 = []\n",
    "score_avg2 = []\n",
    "for k in range(1,31):\n",
    "    neigh = KNeighborsClassifier(n_neighbors=k)\n",
    "    \n",
    "    for train_index, test_index in loo.split(X):\n",
    "        X_train, X_test = X, X.iloc[test_index]\n",
    "        y_train, y_test = y, y[test_index]\n",
    "        \n",
    "        neigh.fit(X_train,y_train)\n",
    "        score2.append(neigh.score(X_test, y_test))    \n",
    "    score_avg2.append(np.mean(score2))\n",
    "print(score_avg2)"
   ]
  },
  {
   "cell_type": "code",
   "execution_count": 600,
   "metadata": {},
   "outputs": [
    {
     "data": {
      "text/plain": [
       "Text(0.5, 1.0, 'Effect of testing with training data')"
      ]
     },
     "execution_count": 600,
     "metadata": {},
     "output_type": "execute_result"
    },
    {
     "data": {
      "image/png": "[encoded data removed]",
      "text/plain": [
       "<Figure size 432x288 with 1 Axes>"
      ]
     },
     "metadata": {
      "needs_background": "light"
     },
     "output_type": "display_data"
    }
   ],
   "source": [
    "fig, ax  = plt.subplots()\n",
    "ax.plot(score_avg,range(1,31))\n",
    "ax.plot(score_avg2,range(1,31))\n",
    "\n",
    "ax.set_xlabel(\"Accuracy\")\n",
    "ax.set_ylabel(\"k\")\n",
    "ax.legend([\"Normal\", \"Whole set\"])\n",
    "ax.set_title(\"Effect of testing with training data\")"
   ]
  },
  {
   "cell_type": "markdown",
   "metadata": {},
   "source": [
    "Testing with training data leads to pretty high accuracies on lower k values "
   ]
  }
 ],
 "metadata": {
  "kernelspec": {
   "display_name": "Python 3",
   "language": "python",
   "name": "python3"
  },
  "language_info": {
   "codemirror_mode": {
    "name": "ipython",
    "version": 3
   },
   "file_extension": ".py",
   "mimetype": "text/x-python",
   "name": "python",
   "nbconvert_exporter": "python",
   "pygments_lexer": "ipython3",
   "version": "3.8.3"
  },
  "toc": {
   "base_numbering": 1,
   "nav_menu": {
    "height": "180px",
    "width": "160px"
   },
   "number_sections": true,
   "sideBar": true,
   "skip_h1_title": true,
   "title_cell": "Table of Contents",
   "title_sidebar": "Contents",
   "toc_cell": false,
   "toc_position": {},
   "toc_section_display": true,
   "toc_window_display": false
  }
 },
 "nbformat": 4,
 "nbformat_minor": 2
}
