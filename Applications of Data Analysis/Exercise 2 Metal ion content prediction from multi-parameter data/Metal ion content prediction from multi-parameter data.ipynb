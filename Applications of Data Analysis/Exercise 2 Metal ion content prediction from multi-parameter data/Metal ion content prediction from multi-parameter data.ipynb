{
 "cells": [
  {
   "cell_type": "markdown",
   "metadata": {},
   "source": [
    "# Exercise 2 | TKO_2096 Application of Data Analysis 2021"
   ]
  },
  {
   "cell_type": "markdown",
   "metadata": {},
   "source": [
    "#### Prediction of the metal ion content from multi-parameter data <br>\n",
    "- Use K-Nearest Neighbor Regression with euclidean distance to predict total metal concentration (c_total), concentration of Cadmium (Cd) and concentration of Lead (Pb), for each sample using number of neighbors k = 3.<br> <br>\n",
    "\n",
    "    - You may use Nearest Neighbor Regression from https://scikit-learn.org/stable/modules/neighbors.html\n",
    "    - The data should be standarized using z-score.\n",
    "    - Implement your own Leave-One-Out cross-validation and calculate the C-index for each output (c_total, Cd, Pb). \n",
    "    - Implement your own Leave-Replicas-Out cross-validation and calculate the C-index for each output (c_total, Cd, Pb).\n",
    "    - Return your solution as a Jupyter Notebook file (include your full name in the file name).\n",
    "    - Submit to moodle your solution on ** Wednesday 10 of February** at the latest."
   ]
  },
  {
   "cell_type": "markdown",
   "metadata": {},
   "source": [
    "## Import libraries"
   ]
  },
  {
   "cell_type": "code",
   "execution_count": 1,
   "metadata": {},
   "outputs": [],
   "source": [
    "#In this cell import all libraries you need. For example: \n",
    "import numpy as np\n",
    "import pandas as pd\n",
    "\n",
    "from scipy.stats import zscore\n",
    "\n",
    "from sklearn.neighbors import KNeighborsRegressor"
   ]
  },
  {
   "cell_type": "markdown",
   "metadata": {},
   "source": [
    "## Read and visualize the dataset"
   ]
  },
  {
   "cell_type": "code",
   "execution_count": 2,
   "metadata": {},
   "outputs": [
    {
     "name": "stdout",
     "output_type": "stream",
     "text": [
      "Dimensions: (225, 6)\n",
      "   c_total      Cd      Pb    Mod1   Mod2    Mod3\n",
      "0     2000   800.0  1200.0  126430   2604    6996\n",
      "1       35    14.0    21.0   20597    271  138677\n",
      "2       35    14.0    21.0   24566    269  161573\n",
      "3       35    35.0     0.0  105732    971  132590\n",
      "4      100    20.0    80.0   57774   5416   93798\n",
      "5     1000  1000.0     0.0  156215  11337  130434\n",
      "6       14     5.6     8.4   10412    101   95515\n",
      "7       50    40.0    10.0  175474   7024  139189\n",
      "8      500   100.0   400.0  221911   3355   11517\n",
      "9      100   100.0     0.0  274833  34426  145074\n"
     ]
    }
   ],
   "source": [
    "#In this cell read the file Water_data.csv\n",
    "#Print the dataset dimesions (i.e. number of rows and columns)\n",
    "#Print the first 5 rows of the dataset\n",
    "\n",
    "data = pd.read_csv('water_data.csv')\n",
    "print(\"Dimensions:\",data.shape)\n",
    "print(data.head(10))"
   ]
  },
  {
   "cell_type": "markdown",
   "metadata": {},
   "source": [
    "#### To show understanding of the data, answer the following questions:\n",
    "- How many different mixtures of Cadmium (Cd) and Lead (Pb) were measured? <br>\n",
    "- How many total concentrations (c_total) were measured? <br>\n",
    "- How many mixtures have less than 4 replicas? <br>\n",
    "- How many mixtures have 4 or more replicas? Print out c_total, Cd and Pb for those concentrations.<br>"
   ]
  },
  {
   "cell_type": "code",
   "execution_count": 3,
   "metadata": {},
   "outputs": [
    {
     "name": "stdout",
     "output_type": "stream",
     "text": [
      "Different mixtures: 67 \n",
      "\n",
      "Total consentrations: 12 \n",
      "\n",
      "Mixtures with less than 4 replicas: 43 \n",
      "\n",
      "Mixtures with 4 or more replicas: 24\n",
      "Concentrations of mixtures with 4 or more replicas:\n",
      "       Cd     Pb\n",
      "4     0.0   50.0\n",
      "5     0.0   70.0\n",
      "6     0.0  100.0\n",
      "7     0.0  200.0\n",
      "18   10.0   40.0\n",
      "23   14.0   56.0\n",
      "26   20.0   30.0\n",
      "27   20.0   80.0\n",
      "30   28.0   42.0\n",
      "31   30.0   20.0\n",
      "33   40.0   10.0\n",
      "34   40.0   60.0\n",
      "35   40.0  160.0\n",
      "36   42.0   28.0\n",
      "37   50.0    0.0\n",
      "38   56.0   14.0\n",
      "39   60.0   40.0\n",
      "40   70.0    0.0\n",
      "41   80.0   20.0\n",
      "42   80.0  120.0\n",
      "43  100.0    0.0\n",
      "45  120.0   80.0\n",
      "46  160.0   40.0\n",
      "47  200.0    0.0\n"
     ]
    }
   ],
   "source": [
    "#In this cell write the code to answer the previous questions and print the answers. \n",
    "\n",
    "# Different mixtures of cadmium and lead\n",
    "mix = data[[\"Cd\",\"Pb\"]] # Remove unneeded columns\n",
    "mix = mix.drop_duplicates() # Remove duplicate rows\n",
    "print(\"Different mixtures:\",len(mix),\"\\n\")\n",
    "\n",
    "# Total concentrations\n",
    "tot = len(data[\"c_total\"].unique()) # Number of unique values for 'c_total'\n",
    "print(\"Total consentrations:\",tot,\"\\n\")\n",
    "\n",
    "\n",
    "# First count unique rows based on values of 'Cd' and ' Pb'\n",
    "replica_counts = data.groupby([\"Cd\",\"Pb\"]).size().reset_index(name=\"Count\") \n",
    "\n",
    "# Mixtures with less than 4 replicas\n",
    "lessthan4 = len([count for count in replica_counts[\"Count\"] if count < 4])\n",
    "print(\"Mixtures with less than 4 replicas:\",lessthan4,\"\\n\")\n",
    "\n",
    "# Mixtures with 4 or more replicas, print concs\n",
    "fourormore = len([count for count in replica_counts[\"Count\"] if count > 3])\n",
    "print(\"Mixtures with 4 or more replicas:\",fourormore)\n",
    "print(\"Concentrations of mixtures with 4 or more replicas:\")\n",
    "\n",
    "# Print the wanted concentrations\n",
    "print(replica_counts[replica_counts[\"Count\"]>3][[\"Cd\",\"Pb\"]])"
   ]
  },
  {
   "cell_type": "markdown",
   "metadata": {},
   "source": [
    "## Standardization of the dataset"
   ]
  },
  {
   "cell_type": "code",
   "execution_count": 4,
   "metadata": {},
   "outputs": [
    {
     "name": "stdout",
     "output_type": "stream",
     "text": [
      "     c_total      Cd      Pb      Mod1      Mod2      Mod3\n",
      "220     2000     0.0  2000.0 -0.645171 -0.495941 -1.530484\n",
      "221     5000  4000.0  1000.0 -0.874613 -0.677499 -1.491442\n",
      "222       50    30.0    20.0 -0.603170 -0.537114  1.873760\n",
      "223       50     0.0    50.0 -0.926602 -0.699822  0.351225\n",
      "224     2000   800.0  1200.0  0.174902 -0.521240 -1.492006\n"
     ]
    }
   ],
   "source": [
    "#Standardize the dataset features by removing the mean and scaling to unit variance. \n",
    "#In other words, use z-score to scale the dataset features (Mod1, Mod2, Mod3) \n",
    "#Print the 5 first samples (i.e. rows) of the scaled dataset\n",
    "\n",
    "# Select subset to standardize\n",
    "to_scale = data[[\"Mod1\",\"Mod2\",\"Mod3\"]] \n",
    "\n",
    "# Use scipy zscore on the subset\n",
    "std_data = to_scale.apply(zscore) \n",
    "\n",
    "# Return standardized data back to original set\n",
    "data = pd.concat([data[[\"c_total\",\"Cd\",\"Pb\"]],std_data],axis=1)\n",
    "print(data[220:])"
   ]
  },
  {
   "cell_type": "markdown",
   "metadata": {},
   "source": [
    "## C-index code "
   ]
  },
  {
   "cell_type": "code",
   "execution_count": 5,
   "metadata": {},
   "outputs": [],
   "source": [
    "def cindex(true_labels, pred_labels):\n",
    "    \"\"\"Returns general C-index between true labels and predicted labels\"\"\"  \n",
    "    \n",
    "    N = 0\n",
    "    T = 0 # total number of unequal outputs\n",
    "    \n",
    "    ## Create the data set to compare within\n",
    "    data = []\n",
    "    for t_label, p_label in zip(true_labels, pred_labels): \n",
    "        data.append((t_label, p_label))  \n",
    "\n",
    "\n",
    "    for i in range(len(data)):\n",
    "        for j in range(i+1, len(data)):\n",
    "            \n",
    "            # If y_i < y_j and ^y_i < ^y_j\n",
    "            if (data[i][0] < data[j][0]) and (data[i][1] < data[j][1]):\n",
    "                N = N + 1\n",
    "                \n",
    "            # Or if y_i > y_j and ^y_i > ^y_j\n",
    "            elif (data[i][0] > data[j][0]) and (data[i][1] > data[j][1]):\n",
    "                N = N + 1\n",
    "                \n",
    "            # Case for ^y_i == ^y_j\n",
    "            elif (data[i][1] == data[j][1]) and (data[i][0] != data[j][0]):\n",
    "                N = N + 0.5\n",
    "                \n",
    "            # Counts all pairs\n",
    "            if data[i][0] != data[j][0]:\n",
    "                T = T + 1\n",
    "                    \n",
    "    print(\"N =\",N,\"\\nPairs =\", T)\n",
    "    \n",
    "    cindx = N/T\n",
    "    return cindx"
   ]
  },
  {
   "cell_type": "code",
   "execution_count": 6,
   "metadata": {},
   "outputs": [
    {
     "name": "stdout",
     "output_type": "stream",
     "text": [
      "N = 4.5 \n",
      "Pairs = 6\n",
      "0.75\n"
     ]
    }
   ],
   "source": [
    "#test cindex function with following values\n",
    "\n",
    "## values given in this exercise\n",
    "true_labels = [-1, 1, 1, -1, 1]\n",
    "predictions = [0.60, 0.80, 0.75, 0.75, 0.70]\n",
    "\n",
    "cindx = cindex(true_labels, predictions)\n",
    "print(cindx)"
   ]
  },
  {
   "cell_type": "markdown",
   "metadata": {},
   "source": [
    "## Functions"
   ]
  },
  {
   "cell_type": "code",
   "execution_count": 7,
   "metadata": {},
   "outputs": [],
   "source": [
    "#Include here all the functions that you need to run in the data analysis part.\n",
    "def myOwnLOO(X):\n",
    "    \n",
    "    indices = np.arange(len(X)) # number of splits\n",
    "    \n",
    "    for test_index in indices:\n",
    "        \n",
    "        test_index = indices[test_index]\n",
    "        train_index = np.delete(indices, test_index) # all but 'test_index'\n",
    "\n",
    "        yield train_index, test_index\n",
    "        \n",
    "\n",
    "def LOOCV(X, y, loo):\n",
    "    \n",
    "    pred = [] # feature predictions\n",
    "\n",
    "    for train_index, test_index in loo:\n",
    "        X_train, X_test = X[train_index], X[test_index]\n",
    "        y_train, y_test = y[train_index], y[test_index]\n",
    "\n",
    "        knr = KNeighborsRegressor(n_neighbors=3)\n",
    "        knr.fit(X_train, y_train)\n",
    "        \n",
    "        pred.append(knr.predict(X_test.reshape(-1,3)))\n",
    "        \n",
    "    return pred"
   ]
  },
  {
   "cell_type": "code",
   "execution_count": 8,
   "metadata": {},
   "outputs": [],
   "source": [
    "def myOwnLRO(rep_groups):\n",
    "    \n",
    "    indices = np.arange(len(rep_groups)) # number of splits\n",
    "    \n",
    "    for i, test_index in enumerate(rep_groups):\n",
    "        \n",
    "        a = rep_groups.copy()\n",
    "        test_index = rep_groups[i]\n",
    "        del(a[i])\n",
    "        train_index = a # all but 'test_index'\n",
    "        \n",
    "        yield train_index, test_index\n",
    "        \n",
    "\n",
    "def LROCV(X, y, loo):\n",
    "    \n",
    "    pred_y_test = [] # feature predictions\n",
    "    \n",
    "    y_true = [] # true y values\n",
    "    \n",
    "    for train_index, test_index in loo:\n",
    "        \n",
    "        # Flatten the train_index list\n",
    "        train_index = [val for sublist in train_index for val in sublist]\n",
    "        train_index.sort()\n",
    "        \n",
    "        X_train, X_test = X[train_index], X[test_index]\n",
    "        y_train, y_test = y[train_index], y[test_index]\n",
    "        \n",
    "        knr = KNeighborsRegressor(n_neighbors=3)\n",
    "        knr.fit(X_train, y_train)\n",
    "        \n",
    "        pred_y_test.append(knr.predict(X_test))\n",
    "        \n",
    "        # True values for y (only way I could keep true values and predictions in the same order)\n",
    "        y_true.append(y[test_index])\n",
    "        \n",
    "    \n",
    "    return pred_y_test,y_true\n"
   ]
  },
  {
   "cell_type": "markdown",
   "metadata": {},
   "source": [
    "## Results for Leave-One-Out cross-validation"
   ]
  },
  {
   "cell_type": "code",
   "execution_count": 9,
   "metadata": {},
   "outputs": [
    {
     "name": "stdout",
     "output_type": "stream",
     "text": [
      "c_total\n",
      "N = 21046.5 \n",
      "Pairs = 23022\n",
      "C-index = 0.9141907740422205 \n",
      "\n",
      "Cd\n",
      "N = 21542.5 \n",
      "Pairs = 23947\n",
      "C-index = 0.8995907629348144 \n",
      "\n",
      "Pb\n",
      "N = 20940.5 \n",
      "Pairs = 23947\n",
      "C-index = 0.8744519146448407 \n",
      "\n"
     ]
    }
   ],
   "source": [
    "#In this cell run your code for leave-One-Out cross-validation and print the corresponding results.\n",
    "\n",
    "X = data[[\"Mod1\",\"Mod2\",\"Mod3\"]].to_numpy()\n",
    "\n",
    "# Labels of y in data\n",
    "labels = [\"c_total\",\"Cd\",\"Pb\"]\n",
    "\n",
    "for label in labels:\n",
    "    loo = myOwnLOO(X) # LOO generator\n",
    "    \n",
    "    y = data[label].to_numpy()\n",
    "    \n",
    "    predictions = LOOCV(X,y,loo)\n",
    "    \n",
    "    print(label)\n",
    "    c = cindex(y, predictions)\n",
    "    print(\"C-index =\",c,\"\\n\")\n",
    "\n"
   ]
  },
  {
   "cell_type": "markdown",
   "metadata": {},
   "source": [
    "## Results for Leave-Replicas-Out cross-validation"
   ]
  },
  {
   "cell_type": "code",
   "execution_count": 10,
   "metadata": {},
   "outputs": [
    {
     "name": "stdout",
     "output_type": "stream",
     "text": [
      "c_total\n",
      "N = 18847.5 \n",
      "Pairs = 23022\n",
      "C-index = 0.8186734427938493 \n",
      "\n",
      "Cd\n",
      "N = 18234.5 \n",
      "Pairs = 23947\n",
      "C-index = 0.7614523739925669 \n",
      "\n",
      "Pb\n",
      "N = 18414.0 \n",
      "Pairs = 23947\n",
      "C-index = 0.7689480937069362 \n",
      "\n"
     ]
    }
   ],
   "source": [
    "#In this cell run your script for leave-Replicas-Out cross-validation and print the corresponding results.\n",
    "\n",
    "\n",
    "## Find indexes of all the replicates\n",
    "uniqs = data.drop_duplicates(subset=[\"c_total\",\"Cd\",\"Pb\"])\n",
    "\n",
    "# For each unique set of 'c_total', 'Cd' and 'Pb' find indexes of their replicates\n",
    "replica_groups = []\n",
    "for index, row in uniqs.iterrows():\n",
    "    \n",
    "    Xy = data.loc[(data[\"c_total\"] == row[\"c_total\"]) &\n",
    "                 (data[\"Cd\"] == row[\"Cd\"]) &\n",
    "                 (data[\"Pb\"] == row[\"Pb\"])]\n",
    "    \n",
    "    # Append lists of replicate indexes\n",
    "    replica_groups.append(Xy.index.values.tolist())\n",
    "\n",
    "    \n",
    "X = data[[\"Mod1\",\"Mod2\",\"Mod3\"]].to_numpy()\n",
    "\n",
    "# Labels of y in data\n",
    "labels = [\"c_total\", \"Cd\", \"Pb\"]\n",
    "\n",
    "\n",
    "for label in labels:\n",
    "    loo = myOwnLRO(replica_groups) # Leave replicas out generator\n",
    "\n",
    "    y = data[label].to_numpy()\n",
    "\n",
    "    pred_y_test, y_true = LROCV(X, y, loo)\n",
    "    \n",
    "    #flatten lists\n",
    "    pred_y_test = [val for sublist in pred_y_test for val in sublist]\n",
    "    y_true = [val for sublist in y_true for val in sublist]\n",
    "\n",
    "    print(label)\n",
    "    \n",
    "    c = cindex(y_true, pred_y_test)# these are not in the same order, pred_y gets sorted somewhere\n",
    "\n",
    "    print(\"C-index =\",c,\"\\n\")"
   ]
  },
  {
   "cell_type": "markdown",
   "metadata": {},
   "source": [
    "## Interpretation of results\n",
    "#### Answer the following questions based on the results obtained\n",
    "- Which cross-validation approach had more optimistic results?\n",
    "- Which cross-validation generalize better on unseen data? Why?"
   ]
  },
  {
   "cell_type": "code",
   "execution_count": 11,
   "metadata": {},
   "outputs": [],
   "source": [
    "#In this cell write your answers to the questions about Interpretation of Results.\n",
    "\n",
    "# Leave-one-out had better c-index scores, but the replicates are distorting that.\n",
    "# Leave-replicates-out is more realistic since it considers the replicates\n",
    "\n"
   ]
  }
 ],
 "metadata": {
  "kernelspec": {
   "display_name": "Python 3",
   "language": "python",
   "name": "python3"
  },
  "language_info": {
   "codemirror_mode": {
    "name": "ipython",
    "version": 3
   },
   "file_extension": ".py",
   "mimetype": "text/x-python",
   "name": "python",
   "nbconvert_exporter": "python",
   "pygments_lexer": "ipython3",
   "version": "3.8.3"
  },
  "toc": {
   "base_numbering": 1,
   "nav_menu": {},
   "number_sections": false,
   "sideBar": true,
   "skip_h1_title": false,
   "title_cell": "Table of Contents",
   "title_sidebar": "Contents",
   "toc_cell": false,
   "toc_position": {},
   "toc_section_display": true,
   "toc_window_display": true
  },
  "varInspector": {
   "cols": {
    "lenName": 16,
    "lenType": 16,
    "lenVar": 40
   },
   "kernels_config": {
    "python": {
     "delete_cmd_postfix": "",
     "delete_cmd_prefix": "del ",
     "library": "var_list.py",
     "varRefreshCmd": "print(var_dic_list())"
    },
    "r": {
     "delete_cmd_postfix": ") ",
     "delete_cmd_prefix": "rm(",
     "library": "var_list.r",
     "varRefreshCmd": "cat(var_dic_list()) "
    }
   },
   "types_to_exclude": [
    "module",
    "function",
    "builtin_function_or_method",
    "instance",
    "_Feature"
   ],
   "window_display": false
  }
 },
 "nbformat": 4,
 "nbformat_minor": 4
}
