{
 "cells": [
  {
   "cell_type": "markdown",
   "metadata": {},
   "source": [
    "# Exercise 3 | TKO_2096 Applications of Data Analysis 2021"
   ]
  },
  {
   "cell_type": "markdown",
   "metadata": {},
   "source": [
    "## Water permeability prediction in forestry <br>\n",
    "\n",
    "In this task, the client wants you to estimate the spatial prediction performance of K-nearest neighbor regression model with K=7 (7NN), using spatial leave-one-out cross-validation (i.e. SKCV, with number of folds == number of data points). The client wants you to use the C-index as the performance measure.  \n",
    "\n",
    "In other words, the client wants you to answer the question: \"What happens to the prediction performance of water permeability using 7-nearest neighbor regression model, when the geographical distance between known data and unknown data increases?\".\n",
    "\n",
    "In this task, you have three data files available (with 1691 data points): \n",
    "\n",
    "- input.csv, contains the 75 predictor features. \n",
    "- output.csv, contains the water permebility values. \n",
    "- coordinates.csv, contains the corresponding geographical coordinate locations of the data points. The unit of the coordinates is metre, and you can use Euclidean distance to calculate distances between the coordinate points. \n",
    "\n",
    "Implement the following tasks to complete this exercise:\n",
    "\n",
    "********************************************\n",
    "\n",
    "#### 1. Z-score standardize the predictor features (input.csv). \n",
    "\n",
    "#### 2. Perform spatial leave-one-out cross-validation with 7NN model for the provided data set (refer to the lectures 3.1.3 and 3.1.4 for help). Estimate the water permeability prediction performance (using 7NN model and C-index) with the following distance parameter values: d = 0, 10, 20, ..., 200 (that is, 10 meter intervals from 0m to 200m). \n",
    "\n",
    "#### 3. When you have calculated the C-index performance measure for each value of d, visualize the results with the C-index (y-axis) as a function of d (x-axis).\n",
    "\n",
    "********************************************\n",
    "\n",
    "Your .ipynb-file must include the following: \n",
    "\n",
    "- Your own implementation of the spatial leave-one-out cross-validation for the current task. Remember to also take advantage of earlier exercises (e.g. C-index). For the 7-nearest neighbor and Euclidean distance calculation you can use third-party libraries (e.g. Scikit-learn) if you want.  \n",
    "\n",
    "\n",
    "- Plot of the graph C-index vs. distance parameter value. \n",
    "\n",
    "\n",
    "<br><br><br>\n",
    "-- START IMPLEMENTING YOUR EXERCISE AFTER THIS LINE --\n",
    "<br><br><br>"
   ]
  },
  {
   "cell_type": "code",
   "execution_count": 1,
   "metadata": {},
   "outputs": [],
   "source": [
    "#######\n",
    "#\n",
    "# THIS DOES RUN, BUT SLOWLY\n",
    "# takes around 20 min\n",
    "# could probably be a lot faster\n",
    "#\n",
    "######\n"
   ]
  },
  {
   "cell_type": "markdown",
   "metadata": {},
   "source": [
    "### Import necessary libraries"
   ]
  },
  {
   "cell_type": "code",
   "execution_count": 10,
   "metadata": {},
   "outputs": [],
   "source": [
    "# In this cell, import all the libraries that you need. For example: \n",
    "import numpy as np\n",
    "import pandas as pd\n",
    "\n",
    "from matplotlib import pyplot as plt\n",
    "from sklearn.neighbors import KNeighborsRegressor\n",
    "from scipy.spatial import distance\n",
    "\n",
    "import time\n"
   ]
  },
  {
   "cell_type": "markdown",
   "metadata": {},
   "source": [
    "### Read in the datasets"
   ]
  },
  {
   "cell_type": "code",
   "execution_count": 14,
   "metadata": {},
   "outputs": [
    {
     "name": "stdout",
     "output_type": "stream",
     "text": [
      "Coordinates: rows 1691 , columns 2\n",
      "Input: rows 1691 , columns 75\n",
      "Output: rows 1691 , columns 1\n"
     ]
    }
   ],
   "source": [
    "# In this cell, read the files input.csv, output.csv and coordinates.csv.\n",
    "# Print out the dataset dimesions (i.e. number of rows and columns).\n",
    "#\n",
    "# Note that the coordinates are in EUREF-TM35FIN format, so you \n",
    "# can use the Euclidean distance to calculate the distance between two coordinate points. \n",
    "\n",
    "cords = pd.read_csv('coordinates.csv',header=None).to_numpy()\n",
    "iput = pd.read_csv('input.csv',header=None)\n",
    "y = pd.read_csv('output.csv',header=None).to_numpy()\n",
    "print(\"Coordinates: rows\",cords.shape[0],\", columns\",cords.shape[1])\n",
    "print(\"Input: rows\",iput.shape[0],\", columns\",iput.shape[1])\n",
    "print(\"Output: rows\",y.shape[0],\", columns\",y.shape[1])\n"
   ]
  },
  {
   "cell_type": "markdown",
   "metadata": {},
   "source": [
    "### Standardization of the predictor features (input.csv)"
   ]
  },
  {
   "cell_type": "code",
   "execution_count": 15,
   "metadata": {},
   "outputs": [],
   "source": [
    "# Standardize the predictor features (input.csv) by removing the mean and scaling to unit variance. \n",
    "# In other words, z-score the predictor features. You are allowed to use third-party libraries for doing this. \n",
    "\n",
    "mean = np.mean(iput)\n",
    "std = np.std(iput)\n",
    "std_input = iput - mean\n",
    "std_input = std_input / std\n",
    "X = std_input.to_numpy()"
   ]
  },
  {
   "cell_type": "markdown",
   "metadata": {},
   "source": [
    "### Functions"
   ]
  },
  {
   "cell_type": "code",
   "execution_count": 5,
   "metadata": {},
   "outputs": [],
   "source": [
    "# Include here all the functions (for example the C-index-function) that you need in order to implement the task.\n",
    "\n",
    "# C-index function from exercise 2\n",
    "def cindex(true_labels, pred_labels):\n",
    "    \"\"\"Returns general C-index between true labels and predicted labels\"\"\"  \n",
    "    \n",
    "    N = 0\n",
    "    T = 0 # total number of unequal outputs\n",
    "    \n",
    "    ## Create the data set\n",
    "    data = [] # Data set\n",
    "    for t_label, p_label in zip(true_labels, pred_labels): \n",
    "        data.append((t_label, p_label))  \n",
    "    \n",
    "    for i in range(len(data)):\n",
    "        for j in range(i+1, len(data)):\n",
    "            if (data[i][0] < data[j][0]) and (data[i][1] < data[j][1]):\n",
    "                N = N + 1\n",
    "            elif (data[i][0] > data[j][0]) and (data[i][1] > data[j][1]):\n",
    "                N = N + 1\n",
    "            elif (data[i][1] == data[j][1]) and (data[i][0] != data[j][0]):\n",
    "                N = N + 0.5\n",
    "            if data[i][0] != data[j][0]:\n",
    "                T = T + 1\n",
    "                    \n",
    "    #print(\"N =\",N,\"\\nPairs =\", T)\n",
    "    \n",
    "    cindx = N/T\n",
    "    return cindx\n",
    "\n",
    "\n",
    "\n",
    "def dist(a,b):\n",
    "    # Calculates euclidean distance between points a and b\n",
    "    dst = distance.euclidean(a, b)\n",
    "    return dst"
   ]
  },
  {
   "cell_type": "markdown",
   "metadata": {},
   "source": [
    "### Results for spatial leave-one-out cross-validation with 7-nearest neighbor regression model"
   ]
  },
  {
   "cell_type": "code",
   "execution_count": 6,
   "metadata": {},
   "outputs": [],
   "source": [
    "def spatialLOO(X, cords, d):\n",
    "       \n",
    "    indices = np.arange(len(X)) # number of splits\n",
    "    \n",
    "    for test_index in indices:\n",
    "        \n",
    "        test_index = indices[test_index]\n",
    "        \n",
    "        ## THIS IS THE SLOW PART\n",
    "        # it should take indexes for training set if they are d distance apart from the test set\n",
    "        train_index = [a for a in indices if dist(cords[a], cords[test_index]) > d]\n",
    "        \n",
    "        yield train_index, test_index   "
   ]
  },
  {
   "cell_type": "code",
   "execution_count": 7,
   "metadata": {},
   "outputs": [],
   "source": [
    "def LOOCV(X, y, loo):\n",
    "    \n",
    "    pred = [] # feature predictions\n",
    "\n",
    "    for train_index, test_index in loo:\n",
    "        \n",
    "        X_train, X_test = X[train_index], X[test_index]\n",
    "        y_train, y_test = y[train_index], y[test_index]\n",
    "\n",
    "        knr = KNeighborsRegressor(n_neighbors=7)\n",
    "        knr.fit(X_train, y_train)\n",
    "\n",
    "        pred.append(knr.predict(X_test.reshape(1, -1)))\n",
    "        \n",
    "    return pred"
   ]
  },
  {
   "cell_type": "code",
   "execution_count": 16,
   "metadata": {},
   "outputs": [
    {
     "name": "stdout",
     "output_type": "stream",
     "text": [
      "Predicting...\n",
      "\n",
      "Distance (1/21): 0\n",
      "C-index = 0.714961523331686 \n",
      "\n",
      "Predicting...\n",
      "\n",
      "Distance (2/21): 10\n",
      "C-index = 0.707754410082749 \n",
      "\n",
      "Predicting...\n",
      "\n",
      "Distance (3/21): 20\n",
      "C-index = 0.706036714175121 \n",
      "\n",
      "Predicting...\n",
      "\n",
      "Distance (4/21): 30\n",
      "C-index = 0.7031980361990063 \n",
      "\n",
      "Predicting...\n",
      "\n",
      "Distance (5/21): 40\n",
      "C-index = 0.7004654017966512 \n",
      "\n",
      "Predicting...\n",
      "\n",
      "Distance (6/21): 50\n",
      "C-index = 0.6954075083049968 \n",
      "\n",
      "Predicting...\n",
      "\n",
      "Distance (7/21): 60\n",
      "C-index = 0.6917488300209007 \n",
      "\n",
      "Predicting...\n",
      "\n",
      "Distance (8/21): 70\n",
      "C-index = 0.6874993875371153 \n",
      "\n",
      "Predicting...\n",
      "\n",
      "Distance (9/21): 80\n",
      "C-index = 0.6848325491475217 \n",
      "\n",
      "Predicting...\n",
      "\n",
      "Distance (10/21): 90\n",
      "C-index = 0.6827659243849823 \n",
      "\n",
      "Predicting...\n",
      "\n",
      "Distance (11/21): 100\n",
      "C-index = 0.6814493041721672 \n",
      "\n",
      "Predicting...\n",
      "\n",
      "Distance (12/21): 110\n",
      "C-index = 0.6432158711182102 \n",
      "\n",
      "Predicting...\n",
      "\n",
      "Distance (13/21): 120\n",
      "C-index = 0.6165243886220495 \n",
      "\n",
      "Predicting...\n",
      "\n",
      "Distance (14/21): 130\n",
      "C-index = 0.6030932525488956 \n",
      "\n",
      "Predicting...\n",
      "\n",
      "Distance (15/21): 140\n",
      "C-index = 0.5997656542013554 \n",
      "\n",
      "Predicting...\n",
      "\n",
      "Distance (16/21): 150\n",
      "C-index = 0.5956814017070565 \n",
      "\n",
      "Predicting...\n",
      "\n",
      "Distance (17/21): 160\n",
      "C-index = 0.5959218371366695 \n",
      "\n",
      "Predicting...\n",
      "\n",
      "Distance (18/21): 170\n",
      "C-index = 0.5950342909219701 \n",
      "\n",
      "Predicting...\n",
      "\n",
      "Distance (19/21): 180\n",
      "C-index = 0.5939444569659079 \n",
      "\n",
      "Predicting...\n",
      "\n",
      "Distance (20/21): 190\n",
      "C-index = 0.5922568592343304 \n",
      "\n",
      "Predicting...\n",
      "\n",
      "Distance (21/21): 200\n",
      "C-index = 0.5906231582366108 \n",
      "\n",
      "Trendline:\n",
      "\n",
      "y=-0.000761x+(0.727636)\n"
     ]
    },
    {
     "data": {
      "image/png": "[encoded data removed]",
      "text/plain": [
       "<Figure size 432x288 with 1 Axes>"
      ]
     },
     "metadata": {
      "needs_background": "light"
     },
     "output_type": "display_data"
    },
    {
     "name": "stdout",
     "output_type": "stream",
     "text": [
      "Predictions took 1059.5559649467468 seconds\n"
     ]
    }
   ],
   "source": [
    "# In this cell, run your script for the Spatial leave-One-Out cross-validation \n",
    "# with 7-nearest neighbor regression model and visualize the results as \n",
    "# requested in the task assignment.\n",
    "\n",
    "start = time.time()\n",
    "\n",
    "# distances to consider\n",
    "ranges = np.arange(0,210,10)\n",
    "\n",
    "cs = [] # list for c-index values\n",
    "\n",
    "#for debug\n",
    "#X = X[:100]\n",
    "#y = y[:100]\n",
    "\n",
    "\n",
    "for d in ranges:\n",
    "    print(\"Predicting...\\n\")\n",
    "    loo = spatialLOO(X, cords, d) # LOO generator\n",
    "    predictions = LOOCV(X,y,loo)\n",
    "\n",
    "    # Flatten lists and convert to dataframes for c-index\n",
    "    predictions = pd.DataFrame([val for sublist in predictions for val in sublist])[0]\n",
    "    y_true = pd.DataFrame([val for sublist in y for val in sublist])[0]\n",
    "    \n",
    "    # Progress print outs and c-index calculation\n",
    "    print(f\"Distance ({int(d/10+1)}/21):\",d)\n",
    "    c = cindex(y_true, predictions)\n",
    "    print(\"C-index =\",c,\"\\n\")\n",
    "    cs.append(c)\n",
    "\n",
    "\n",
    "# Plotting\n",
    "plt.scatter(ranges,cs)\n",
    "plt.title(\"C-index vs Distance\")\n",
    "plt.xlabel(\"Distance\")\n",
    "plt.ylabel(\"C-index\")\n",
    "\n",
    "# Trendline (linear)\n",
    "z = np.polyfit(ranges, cs, 1)\n",
    "p = np.poly1d(z)\n",
    "plt.plot(ranges,p(ranges),\"r--\")\n",
    "print(\"Trendline:\\n\")\n",
    "print(\"y=%.6fx+(%.6f)\"%(z[0],z[1]))\n",
    "\n",
    "plt.show()\n",
    "\n",
    "\n",
    "end = time.time()\n",
    "print(f\"Predictions took {end-start} seconds\")\n"
   ]
  },
  {
   "cell_type": "markdown",
   "metadata": {},
   "source": [
    "### Interpretation of the results"
   ]
  },
  {
   "cell_type": "code",
   "execution_count": 9,
   "metadata": {},
   "outputs": [],
   "source": [
    "# In this cell, give a brief commentary on the results, what happens to the prediction \n",
    "# performance as the prediction distance increases?\n",
    "\n",
    "# As the prediction distance increases, the performance decays first just a little until around distance 100 where it drops heavily to plateau again\n",
    "# I added a linear trendline to the plot, but I have a feeling the relation is not linear\n"
   ]
  }
 ],
 "metadata": {
  "kernelspec": {
   "display_name": "Python 3",
   "language": "python",
   "name": "python3"
  },
  "language_info": {
   "codemirror_mode": {
    "name": "ipython",
    "version": 3
   },
   "file_extension": ".py",
   "mimetype": "text/x-python",
   "name": "python",
   "nbconvert_exporter": "python",
   "pygments_lexer": "ipython3",
   "version": "3.8.3"
  },
  "toc": {
   "base_numbering": 1,
   "nav_menu": {},
   "number_sections": false,
   "sideBar": true,
   "skip_h1_title": false,
   "title_cell": "Table of Contents",
   "title_sidebar": "Contents",
   "toc_cell": false,
   "toc_position": {},
   "toc_section_display": true,
   "toc_window_display": true
  },
  "varInspector": {
   "cols": {
    "lenName": 16,
    "lenType": 16,
    "lenVar": 40
   },
   "kernels_config": {
    "python": {
     "delete_cmd_postfix": "",
     "delete_cmd_prefix": "del ",
     "library": "var_list.py",
     "varRefreshCmd": "print(var_dic_list())"
    },
    "r": {
     "delete_cmd_postfix": ") ",
     "delete_cmd_prefix": "rm(",
     "library": "var_list.r",
     "varRefreshCmd": "cat(var_dic_list()) "
    }
   },
   "types_to_exclude": [
    "module",
    "function",
    "builtin_function_or_method",
    "instance",
    "_Feature"
   ],
   "window_display": false
  }
 },
 "nbformat": 4,
 "nbformat_minor": 4
}
